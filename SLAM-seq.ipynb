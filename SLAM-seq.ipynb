{
 "cells": [
  {
   "cell_type": "code",
   "execution_count": 1,
   "id": "0e45f245-9ba8-4e5a-ad78-8d943a544856",
   "metadata": {},
   "outputs": [],
   "source": [
    "import os\n",
    "import subprocess\n",
    "import glob\n",
    "from IPython.display import display"
   ]
  },
  {
   "cell_type": "code",
   "execution_count": 2,
   "id": "7bd90537-b804-4552-bef7-6d86ef4764c3",
   "metadata": {},
   "outputs": [],
   "source": [
    "data_dir = \"/mnt/e/CRPC/data/\"\n",
    "fastqc_output = \"/mnt/e/CRPC/fastqc_results/\""
   ]
  },
  {
   "cell_type": "code",
   "execution_count": 6,
   "id": "84b09024-e669-421d-b63b-6185d284fa88",
   "metadata": {},
   "outputs": [
    {
     "name": "stdout",
     "output_type": "stream",
     "text": [
      "🔍 Files found: trimmed_fastq/SRR25056153_trimmed.fastq.gz trimmed_fastq/SRR25056154_trimmed.fastq.gz trimmed_fastq/SRR25056155_trimmed.fastq.gz trimmed_fastq/SRR25056156_trimmed.fastq.gz trimmed_fastq/SRR25056157_trimmed.fastq.gz trimmed_fastq/SRR25056158_trimmed.fastq.gz trimmed_fastq/SRR25056159_trimmed.fastq.gz trimmed_fastq/SRR25056160_trimmed.fastq.gz trimmed_fastq/SRR25056161_trimmed.fastq.gz trimmed_fastq/SRR25056162_trimmed.fastq.gz\n"
     ]
    }
   ],
   "source": [
    "# List of FASTQ files\n",
    "data = glob.glob(os.path.join(data_dir, \"*.fastq.gz\"))\n",
    "print(\"🔍 Files found:\", fastq_files)"
   ]
  },
  {
   "cell_type": "code",
   "execution_count": null,
   "id": "8e557c2e-e3fc-496a-9683-873d378bf01f",
   "metadata": {
    "scrolled": true
   },
   "outputs": [],
   "source": [
    "# Step 1: FastQC\n",
    "for file in data:\n",
    "    print(f\"🔍 Analyzing  {file}...\")\n",
    "    subprocess.run(f\"fastqc -o \\\"{fastqc_output}\\\" \\\"{file}\\\"\", shell=True, text=True)"
   ]
  },
  {
   "cell_type": "code",
   "execution_count": 10,
   "id": "485cb506-24cb-47af-b03c-c69965af48e6",
   "metadata": {
    "scrolled": true
   },
   "outputs": [
    {
     "name": "stderr",
     "output_type": "stream",
     "text": [
      "\n",
      "  \u001b[91m///\u001b[0m \u001b]8;id=794087;https://multiqc.info\u001b\\\u001b[1mMultiQC\u001b[0m\u001b]8;;\u001b\\ 🔍 \u001b[2m| v1.19\u001b[0m\n",
      "\n",
      "\u001b[34m|           multiqc\u001b[0m | \u001b[33mMultiQC Version v1.27 now available!\u001b[0m\n",
      "\u001b[34m|           multiqc\u001b[0m | Search path : /mnt/e/CRPC/fastqc_results\n",
      "\u001b[2K\u001b[34m|\u001b[0m         \u001b[34msearching\u001b[0m | \u001b[90m━━━━━━━━━━━━━━━━━━━━━━━━━━━━━━━━━━━━━━━━\u001b[0m \u001b[35m100%\u001b[0m \u001b[32m20/20\u001b[0m  [2m/mnt/e/CRPC/fastqc_results/SRR25056162_fastqc.zip\u001b[0m/SRR25056159_fastqc.zip\u001b[0m\n",
      "\u001b[?25h\u001b[34m|            fastqc\u001b[0m | Found 10 reports\n",
      "\u001b[34m|           multiqc\u001b[0m | Report      : fastqc_results/multiqc_report.html\n",
      "\u001b[34m|           multiqc\u001b[0m | Data        : fastqc_results/multiqc_data\n",
      "\u001b[34m|           multiqc\u001b[0m | MultiQC complete\n"
     ]
    },
    {
     "data": {
      "text/plain": [
       "CompletedProcess(args='multiqc /mnt/e/CRPC/fastqc_results/ -o /mnt/e/CRPC/fastqc_results/', returncode=0)"
      ]
     },
     "execution_count": 10,
     "metadata": {},
     "output_type": "execute_result"
    }
   ],
   "source": [
    "subprocess.run(f\"multiqc {fastqc_output} -o {fastqc_output}\", shell=True, text=True)"
   ]
  },
  {
   "cell_type": "code",
   "execution_count": 7,
   "id": "3af7353c-9069-4f20-893a-3bb97f165aad",
   "metadata": {
    "scrolled": true
   },
   "outputs": [
    {
     "name": "stdout",
     "output_type": "stream",
     "text": [
      "Running Trimmomatic...\n",
      "✂️ Processing: /mnt/e/CRPC/data/SRR25056160.fastq.gz\n"
     ]
    },
    {
     "name": "stderr",
     "output_type": "stream",
     "text": [
      "TrimmomaticSE: Started with arguments:\n",
      " -phred33 /mnt/e/CRPC/data/SRR25056160.fastq.gz trimmed_fastq/SRR25056160.fastq.gz_trimmed.fastq.gz ILLUMINACLIP:adapters.fa:2:30:10:2:True SLIDINGWINDOW:4:20\n",
      "Automatically using 1 threads\n",
      "Using Long Clipping Sequence: 'AGATCGGAAGAGCACACGTCTGAACTCCAGTCAC'\n",
      "Using Long Clipping Sequence: 'AAAAAAAAAAAAAAAAAAAAAAAAAAAAAAAA'\n",
      "Using Long Clipping Sequence: 'TTTTTTTTTTTTTTTTTTTTTTTTTTTTTTTT'\n",
      "Using Long Clipping Sequence: 'AGATCGGAAGAGCGTCGTGTAGGGAAAGAGTGT'\n",
      "ILLUMINACLIP: Using 0 prefix pairs, 4 forward/reverse sequences, 0 forward only sequences, 0 reverse only sequences\n",
      "Input Reads: 81374548 Surviving: 80023505 (98.34%) Dropped: 1351043 (1.66%)\n",
      "TrimmomaticSE: Completed successfully\n",
      "TrimmomaticSE: Started with arguments:\n",
      " -phred33 /mnt/e/CRPC/data/SRR25056161.fastq.gz trimmed_fastq/SRR25056161.fastq.gz_trimmed.fastq.gz ILLUMINACLIP:adapters.fa:2:30:10:2:True SLIDINGWINDOW:4:20\n",
      "Automatically using 1 threads\n",
      "Using Long Clipping Sequence: 'AGATCGGAAGAGCACACGTCTGAACTCCAGTCAC'\n",
      "Using Long Clipping Sequence: 'AAAAAAAAAAAAAAAAAAAAAAAAAAAAAAAA'\n",
      "Using Long Clipping Sequence: 'TTTTTTTTTTTTTTTTTTTTTTTTTTTTTTTT'\n",
      "Using Long Clipping Sequence: 'AGATCGGAAGAGCGTCGTGTAGGGAAAGAGTGT'\n",
      "ILLUMINACLIP: Using 0 prefix pairs, 4 forward/reverse sequences, 0 forward only sequences, 0 reverse only sequences\n"
     ]
    },
    {
     "name": "stdout",
     "output_type": "stream",
     "text": [
      "✂️ Processing: /mnt/e/CRPC/data/SRR25056161.fastq.gz\n"
     ]
    },
    {
     "name": "stderr",
     "output_type": "stream",
     "text": [
      "Input Reads: 66149895 Surviving: 65518827 (99.05%) Dropped: 631068 (0.95%)\n",
      "TrimmomaticSE: Completed successfully\n",
      "TrimmomaticSE: Started with arguments:\n",
      " -phred33 /mnt/e/CRPC/data/SRR25056162.fastq.gz trimmed_fastq/SRR25056162.fastq.gz_trimmed.fastq.gz ILLUMINACLIP:adapters.fa:2:30:10:2:True SLIDINGWINDOW:4:20\n",
      "Automatically using 1 threads\n",
      "Using Long Clipping Sequence: 'AGATCGGAAGAGCACACGTCTGAACTCCAGTCAC'\n",
      "Using Long Clipping Sequence: 'AAAAAAAAAAAAAAAAAAAAAAAAAAAAAAAA'\n",
      "Using Long Clipping Sequence: 'TTTTTTTTTTTTTTTTTTTTTTTTTTTTTTTT'\n",
      "Using Long Clipping Sequence: 'AGATCGGAAGAGCGTCGTGTAGGGAAAGAGTGT'\n",
      "ILLUMINACLIP: Using 0 prefix pairs, 4 forward/reverse sequences, 0 forward only sequences, 0 reverse only sequences\n"
     ]
    },
    {
     "name": "stdout",
     "output_type": "stream",
     "text": [
      "✂️ Processing: /mnt/e/CRPC/data/SRR25056162.fastq.gz\n"
     ]
    },
    {
     "name": "stderr",
     "output_type": "stream",
     "text": [
      "Input Reads: 84507819 Surviving: 82924567 (98.13%) Dropped: 1583252 (1.87%)\n",
      "TrimmomaticSE: Completed successfully\n"
     ]
    }
   ],
   "source": [
    "# Step 2: Cleaning\n",
    "output_dir = \"trimmed_fastq\"\n",
    "os.makedirs(output_dir, exist_ok=True) \n",
    "\n",
    "adapter_file = \"adapters.fa\"\n",
    "\n",
    "trimmomatic_params = {\n",
    "    \"phred\": \"-phred33\",\n",
    "    \"adapters\": f\"ILLUMINACLIP:{adapter_file}:2:30:10:2:True\",\n",
    "    \"sliding_window\": \"SLIDINGWINDOW:4:20\"\n",
    "}\n",
    "\n",
    "print(\"Running Trimmomatic...\")\n",
    "for file in fastq_files:\n",
    "    base = os.path.basename(file).replace(\"_1.fastq.gz\", \"\")\n",
    "    output_file = os.path.join(output_dir, f\"{base}_trimmed.fastq.gz\")\n",
    "    \n",
    "    trimmomatic_cmd = (\n",
    "        f\"trimmomatic SE {trimmomatic_params['phred']} {file} {output_file} \"\n",
    "        f\"{trimmomatic_params['adapters']} {trimmomatic_params['sliding_window']}\"\n",
    "    )\n",
    "    \n",
    "    print(f\"✂️ Processing: {file}\")\n",
    "    subprocess.run(trimmomatic_cmd, shell=True, text=True, check=True)"
   ]
  },
  {
   "cell_type": "code",
   "execution_count": 9,
   "id": "1d148121-2257-4420-a4e6-d89fb77c6056",
   "metadata": {
    "scrolled": true
   },
   "outputs": [
    {
     "name": "stdout",
     "output_type": "stream",
     "text": [
      "🔬 Analyzing trimmed_fastq/SRR25056153.fastq.gz_trimmed.fastq.gz...\n",
      "application/gzip\n"
     ]
    },
    {
     "name": "stderr",
     "output_type": "stream",
     "text": [
      "Started analysis of SRR25056153.fastq.gz_trimmed.fastq.gz\n",
      "Approx 5% complete for SRR25056153.fastq.gz_trimmed.fastq.gz\n",
      "Approx 10% complete for SRR25056153.fastq.gz_trimmed.fastq.gz\n",
      "Approx 15% complete for SRR25056153.fastq.gz_trimmed.fastq.gz\n",
      "Approx 20% complete for SRR25056153.fastq.gz_trimmed.fastq.gz\n",
      "Approx 25% complete for SRR25056153.fastq.gz_trimmed.fastq.gz\n",
      "Approx 30% complete for SRR25056153.fastq.gz_trimmed.fastq.gz\n",
      "Approx 35% complete for SRR25056153.fastq.gz_trimmed.fastq.gz\n",
      "Approx 40% complete for SRR25056153.fastq.gz_trimmed.fastq.gz\n",
      "Approx 45% complete for SRR25056153.fastq.gz_trimmed.fastq.gz\n",
      "Approx 50% complete for SRR25056153.fastq.gz_trimmed.fastq.gz\n",
      "Approx 55% complete for SRR25056153.fastq.gz_trimmed.fastq.gz\n",
      "Approx 60% complete for SRR25056153.fastq.gz_trimmed.fastq.gz\n",
      "Approx 65% complete for SRR25056153.fastq.gz_trimmed.fastq.gz\n",
      "Approx 70% complete for SRR25056153.fastq.gz_trimmed.fastq.gz\n",
      "Approx 75% complete for SRR25056153.fastq.gz_trimmed.fastq.gz\n",
      "Approx 80% complete for SRR25056153.fastq.gz_trimmed.fastq.gz\n",
      "Approx 85% complete for SRR25056153.fastq.gz_trimmed.fastq.gz\n",
      "Approx 90% complete for SRR25056153.fastq.gz_trimmed.fastq.gz\n",
      "Approx 95% complete for SRR25056153.fastq.gz_trimmed.fastq.gz\n"
     ]
    },
    {
     "name": "stdout",
     "output_type": "stream",
     "text": [
      "Analysis complete for SRR25056153.fastq.gz_trimmed.fastq.gz\n",
      "🔬 Analyzing trimmed_fastq/SRR25056154.fastq.gz_trimmed.fastq.gz...\n",
      "application/gzip\n"
     ]
    },
    {
     "name": "stderr",
     "output_type": "stream",
     "text": [
      "Started analysis of SRR25056154.fastq.gz_trimmed.fastq.gz\n",
      "Approx 5% complete for SRR25056154.fastq.gz_trimmed.fastq.gz\n",
      "Approx 10% complete for SRR25056154.fastq.gz_trimmed.fastq.gz\n",
      "Approx 15% complete for SRR25056154.fastq.gz_trimmed.fastq.gz\n",
      "Approx 20% complete for SRR25056154.fastq.gz_trimmed.fastq.gz\n",
      "Approx 25% complete for SRR25056154.fastq.gz_trimmed.fastq.gz\n",
      "Approx 30% complete for SRR25056154.fastq.gz_trimmed.fastq.gz\n",
      "Approx 35% complete for SRR25056154.fastq.gz_trimmed.fastq.gz\n",
      "Approx 40% complete for SRR25056154.fastq.gz_trimmed.fastq.gz\n",
      "Approx 45% complete for SRR25056154.fastq.gz_trimmed.fastq.gz\n",
      "Approx 50% complete for SRR25056154.fastq.gz_trimmed.fastq.gz\n",
      "Approx 55% complete for SRR25056154.fastq.gz_trimmed.fastq.gz\n",
      "Approx 60% complete for SRR25056154.fastq.gz_trimmed.fastq.gz\n",
      "Approx 65% complete for SRR25056154.fastq.gz_trimmed.fastq.gz\n",
      "Approx 70% complete for SRR25056154.fastq.gz_trimmed.fastq.gz\n",
      "Approx 75% complete for SRR25056154.fastq.gz_trimmed.fastq.gz\n",
      "Approx 80% complete for SRR25056154.fastq.gz_trimmed.fastq.gz\n",
      "Approx 85% complete for SRR25056154.fastq.gz_trimmed.fastq.gz\n",
      "Approx 90% complete for SRR25056154.fastq.gz_trimmed.fastq.gz\n",
      "Approx 95% complete for SRR25056154.fastq.gz_trimmed.fastq.gz\n"
     ]
    },
    {
     "name": "stdout",
     "output_type": "stream",
     "text": [
      "Analysis complete for SRR25056154.fastq.gz_trimmed.fastq.gz\n",
      "🔬 Analyzing trimmed_fastq/SRR25056155.fastq.gz_trimmed.fastq.gz...\n",
      "application/gzip\n"
     ]
    },
    {
     "name": "stderr",
     "output_type": "stream",
     "text": [
      "Started analysis of SRR25056155.fastq.gz_trimmed.fastq.gz\n",
      "Approx 5% complete for SRR25056155.fastq.gz_trimmed.fastq.gz\n",
      "Approx 10% complete for SRR25056155.fastq.gz_trimmed.fastq.gz\n",
      "Approx 15% complete for SRR25056155.fastq.gz_trimmed.fastq.gz\n",
      "Approx 20% complete for SRR25056155.fastq.gz_trimmed.fastq.gz\n",
      "Approx 25% complete for SRR25056155.fastq.gz_trimmed.fastq.gz\n",
      "Approx 30% complete for SRR25056155.fastq.gz_trimmed.fastq.gz\n",
      "Approx 35% complete for SRR25056155.fastq.gz_trimmed.fastq.gz\n",
      "Approx 40% complete for SRR25056155.fastq.gz_trimmed.fastq.gz\n",
      "Approx 45% complete for SRR25056155.fastq.gz_trimmed.fastq.gz\n",
      "Approx 50% complete for SRR25056155.fastq.gz_trimmed.fastq.gz\n",
      "Approx 55% complete for SRR25056155.fastq.gz_trimmed.fastq.gz\n",
      "Approx 60% complete for SRR25056155.fastq.gz_trimmed.fastq.gz\n",
      "Approx 65% complete for SRR25056155.fastq.gz_trimmed.fastq.gz\n",
      "Approx 70% complete for SRR25056155.fastq.gz_trimmed.fastq.gz\n",
      "Approx 75% complete for SRR25056155.fastq.gz_trimmed.fastq.gz\n",
      "Approx 80% complete for SRR25056155.fastq.gz_trimmed.fastq.gz\n",
      "Approx 85% complete for SRR25056155.fastq.gz_trimmed.fastq.gz\n",
      "Approx 90% complete for SRR25056155.fastq.gz_trimmed.fastq.gz\n",
      "Approx 95% complete for SRR25056155.fastq.gz_trimmed.fastq.gz\n"
     ]
    },
    {
     "name": "stdout",
     "output_type": "stream",
     "text": [
      "Analysis complete for SRR25056155.fastq.gz_trimmed.fastq.gz\n",
      "🔬 Analyzing trimmed_fastq/SRR25056156.fastq.gz_trimmed.fastq.gz...\n",
      "application/gzip\n"
     ]
    },
    {
     "name": "stderr",
     "output_type": "stream",
     "text": [
      "Started analysis of SRR25056156.fastq.gz_trimmed.fastq.gz\n",
      "Approx 5% complete for SRR25056156.fastq.gz_trimmed.fastq.gz\n",
      "Approx 10% complete for SRR25056156.fastq.gz_trimmed.fastq.gz\n",
      "Approx 15% complete for SRR25056156.fastq.gz_trimmed.fastq.gz\n",
      "Approx 20% complete for SRR25056156.fastq.gz_trimmed.fastq.gz\n",
      "Approx 25% complete for SRR25056156.fastq.gz_trimmed.fastq.gz\n",
      "Approx 30% complete for SRR25056156.fastq.gz_trimmed.fastq.gz\n",
      "Approx 35% complete for SRR25056156.fastq.gz_trimmed.fastq.gz\n",
      "Approx 40% complete for SRR25056156.fastq.gz_trimmed.fastq.gz\n",
      "Approx 45% complete for SRR25056156.fastq.gz_trimmed.fastq.gz\n",
      "Approx 50% complete for SRR25056156.fastq.gz_trimmed.fastq.gz\n",
      "Approx 55% complete for SRR25056156.fastq.gz_trimmed.fastq.gz\n",
      "Approx 60% complete for SRR25056156.fastq.gz_trimmed.fastq.gz\n",
      "Approx 65% complete for SRR25056156.fastq.gz_trimmed.fastq.gz\n",
      "Approx 70% complete for SRR25056156.fastq.gz_trimmed.fastq.gz\n",
      "Approx 75% complete for SRR25056156.fastq.gz_trimmed.fastq.gz\n",
      "Approx 80% complete for SRR25056156.fastq.gz_trimmed.fastq.gz\n",
      "Approx 85% complete for SRR25056156.fastq.gz_trimmed.fastq.gz\n",
      "Approx 90% complete for SRR25056156.fastq.gz_trimmed.fastq.gz\n",
      "Approx 95% complete for SRR25056156.fastq.gz_trimmed.fastq.gz\n"
     ]
    },
    {
     "name": "stdout",
     "output_type": "stream",
     "text": [
      "Analysis complete for SRR25056156.fastq.gz_trimmed.fastq.gz\n",
      "🔬 Analyzing trimmed_fastq/SRR25056157.fastq.gz_trimmed.fastq.gz...\n",
      "application/gzip\n"
     ]
    },
    {
     "name": "stderr",
     "output_type": "stream",
     "text": [
      "Started analysis of SRR25056157.fastq.gz_trimmed.fastq.gz\n",
      "Approx 5% complete for SRR25056157.fastq.gz_trimmed.fastq.gz\n",
      "Approx 10% complete for SRR25056157.fastq.gz_trimmed.fastq.gz\n",
      "Approx 15% complete for SRR25056157.fastq.gz_trimmed.fastq.gz\n",
      "Approx 20% complete for SRR25056157.fastq.gz_trimmed.fastq.gz\n",
      "Approx 25% complete for SRR25056157.fastq.gz_trimmed.fastq.gz\n",
      "Approx 30% complete for SRR25056157.fastq.gz_trimmed.fastq.gz\n",
      "Approx 35% complete for SRR25056157.fastq.gz_trimmed.fastq.gz\n",
      "Approx 40% complete for SRR25056157.fastq.gz_trimmed.fastq.gz\n",
      "Approx 45% complete for SRR25056157.fastq.gz_trimmed.fastq.gz\n",
      "Approx 50% complete for SRR25056157.fastq.gz_trimmed.fastq.gz\n",
      "Approx 55% complete for SRR25056157.fastq.gz_trimmed.fastq.gz\n",
      "Approx 60% complete for SRR25056157.fastq.gz_trimmed.fastq.gz\n",
      "Approx 65% complete for SRR25056157.fastq.gz_trimmed.fastq.gz\n",
      "Approx 70% complete for SRR25056157.fastq.gz_trimmed.fastq.gz\n",
      "Approx 75% complete for SRR25056157.fastq.gz_trimmed.fastq.gz\n",
      "Approx 80% complete for SRR25056157.fastq.gz_trimmed.fastq.gz\n",
      "Approx 85% complete for SRR25056157.fastq.gz_trimmed.fastq.gz\n",
      "Approx 90% complete for SRR25056157.fastq.gz_trimmed.fastq.gz\n",
      "Approx 95% complete for SRR25056157.fastq.gz_trimmed.fastq.gz\n"
     ]
    },
    {
     "name": "stdout",
     "output_type": "stream",
     "text": [
      "Analysis complete for SRR25056157.fastq.gz_trimmed.fastq.gz\n",
      "🔬 Analyzing trimmed_fastq/SRR25056158.fastq.gz_trimmed.fastq.gz...\n",
      "application/gzip\n"
     ]
    },
    {
     "name": "stderr",
     "output_type": "stream",
     "text": [
      "Started analysis of SRR25056158.fastq.gz_trimmed.fastq.gz\n",
      "Approx 5% complete for SRR25056158.fastq.gz_trimmed.fastq.gz\n",
      "Approx 10% complete for SRR25056158.fastq.gz_trimmed.fastq.gz\n",
      "Approx 15% complete for SRR25056158.fastq.gz_trimmed.fastq.gz\n",
      "Approx 20% complete for SRR25056158.fastq.gz_trimmed.fastq.gz\n",
      "Approx 25% complete for SRR25056158.fastq.gz_trimmed.fastq.gz\n",
      "Approx 30% complete for SRR25056158.fastq.gz_trimmed.fastq.gz\n",
      "Approx 35% complete for SRR25056158.fastq.gz_trimmed.fastq.gz\n",
      "Approx 40% complete for SRR25056158.fastq.gz_trimmed.fastq.gz\n",
      "Approx 45% complete for SRR25056158.fastq.gz_trimmed.fastq.gz\n",
      "Approx 50% complete for SRR25056158.fastq.gz_trimmed.fastq.gz\n",
      "Approx 55% complete for SRR25056158.fastq.gz_trimmed.fastq.gz\n",
      "Approx 60% complete for SRR25056158.fastq.gz_trimmed.fastq.gz\n",
      "Approx 65% complete for SRR25056158.fastq.gz_trimmed.fastq.gz\n",
      "Approx 70% complete for SRR25056158.fastq.gz_trimmed.fastq.gz\n",
      "Approx 75% complete for SRR25056158.fastq.gz_trimmed.fastq.gz\n",
      "Approx 80% complete for SRR25056158.fastq.gz_trimmed.fastq.gz\n",
      "Approx 85% complete for SRR25056158.fastq.gz_trimmed.fastq.gz\n",
      "Approx 90% complete for SRR25056158.fastq.gz_trimmed.fastq.gz\n",
      "Approx 95% complete for SRR25056158.fastq.gz_trimmed.fastq.gz\n"
     ]
    },
    {
     "name": "stdout",
     "output_type": "stream",
     "text": [
      "Analysis complete for SRR25056158.fastq.gz_trimmed.fastq.gz\n",
      "🔬 Analyzing trimmed_fastq/SRR25056159.fastq.gz_trimmed.fastq.gz...\n",
      "application/gzip\n"
     ]
    },
    {
     "name": "stderr",
     "output_type": "stream",
     "text": [
      "Started analysis of SRR25056159.fastq.gz_trimmed.fastq.gz\n",
      "Approx 5% complete for SRR25056159.fastq.gz_trimmed.fastq.gz\n",
      "Approx 10% complete for SRR25056159.fastq.gz_trimmed.fastq.gz\n",
      "Approx 15% complete for SRR25056159.fastq.gz_trimmed.fastq.gz\n",
      "Approx 20% complete for SRR25056159.fastq.gz_trimmed.fastq.gz\n",
      "Approx 25% complete for SRR25056159.fastq.gz_trimmed.fastq.gz\n",
      "Approx 30% complete for SRR25056159.fastq.gz_trimmed.fastq.gz\n",
      "Approx 35% complete for SRR25056159.fastq.gz_trimmed.fastq.gz\n",
      "Approx 40% complete for SRR25056159.fastq.gz_trimmed.fastq.gz\n",
      "Approx 45% complete for SRR25056159.fastq.gz_trimmed.fastq.gz\n",
      "Approx 50% complete for SRR25056159.fastq.gz_trimmed.fastq.gz\n",
      "Approx 55% complete for SRR25056159.fastq.gz_trimmed.fastq.gz\n",
      "Approx 60% complete for SRR25056159.fastq.gz_trimmed.fastq.gz\n",
      "Approx 65% complete for SRR25056159.fastq.gz_trimmed.fastq.gz\n",
      "Approx 70% complete for SRR25056159.fastq.gz_trimmed.fastq.gz\n",
      "Approx 75% complete for SRR25056159.fastq.gz_trimmed.fastq.gz\n",
      "Approx 80% complete for SRR25056159.fastq.gz_trimmed.fastq.gz\n",
      "Approx 85% complete for SRR25056159.fastq.gz_trimmed.fastq.gz\n",
      "Approx 90% complete for SRR25056159.fastq.gz_trimmed.fastq.gz\n",
      "Approx 95% complete for SRR25056159.fastq.gz_trimmed.fastq.gz\n"
     ]
    },
    {
     "name": "stdout",
     "output_type": "stream",
     "text": [
      "Analysis complete for SRR25056159.fastq.gz_trimmed.fastq.gz\n",
      "🔬 Analyzing trimmed_fastq/SRR25056160.fastq.gz_trimmed.fastq.gz...\n",
      "application/gzip\n"
     ]
    },
    {
     "name": "stderr",
     "output_type": "stream",
     "text": [
      "Started analysis of SRR25056160.fastq.gz_trimmed.fastq.gz\n",
      "Approx 5% complete for SRR25056160.fastq.gz_trimmed.fastq.gz\n",
      "Approx 10% complete for SRR25056160.fastq.gz_trimmed.fastq.gz\n",
      "Approx 15% complete for SRR25056160.fastq.gz_trimmed.fastq.gz\n",
      "Approx 20% complete for SRR25056160.fastq.gz_trimmed.fastq.gz\n",
      "Approx 25% complete for SRR25056160.fastq.gz_trimmed.fastq.gz\n",
      "Approx 30% complete for SRR25056160.fastq.gz_trimmed.fastq.gz\n",
      "Approx 35% complete for SRR25056160.fastq.gz_trimmed.fastq.gz\n",
      "Approx 40% complete for SRR25056160.fastq.gz_trimmed.fastq.gz\n",
      "Approx 45% complete for SRR25056160.fastq.gz_trimmed.fastq.gz\n",
      "Approx 50% complete for SRR25056160.fastq.gz_trimmed.fastq.gz\n",
      "Approx 55% complete for SRR25056160.fastq.gz_trimmed.fastq.gz\n",
      "Approx 60% complete for SRR25056160.fastq.gz_trimmed.fastq.gz\n",
      "Approx 65% complete for SRR25056160.fastq.gz_trimmed.fastq.gz\n",
      "Approx 70% complete for SRR25056160.fastq.gz_trimmed.fastq.gz\n",
      "Approx 75% complete for SRR25056160.fastq.gz_trimmed.fastq.gz\n",
      "Approx 80% complete for SRR25056160.fastq.gz_trimmed.fastq.gz\n",
      "Approx 85% complete for SRR25056160.fastq.gz_trimmed.fastq.gz\n",
      "Approx 90% complete for SRR25056160.fastq.gz_trimmed.fastq.gz\n",
      "Approx 95% complete for SRR25056160.fastq.gz_trimmed.fastq.gz\n"
     ]
    },
    {
     "name": "stdout",
     "output_type": "stream",
     "text": [
      "Analysis complete for SRR25056160.fastq.gz_trimmed.fastq.gz\n",
      "🔬 Analyzing trimmed_fastq/SRR25056161.fastq.gz_trimmed.fastq.gz...\n",
      "application/gzip\n"
     ]
    },
    {
     "name": "stderr",
     "output_type": "stream",
     "text": [
      "Started analysis of SRR25056161.fastq.gz_trimmed.fastq.gz\n",
      "Approx 5% complete for SRR25056161.fastq.gz_trimmed.fastq.gz\n",
      "Approx 10% complete for SRR25056161.fastq.gz_trimmed.fastq.gz\n",
      "Approx 15% complete for SRR25056161.fastq.gz_trimmed.fastq.gz\n",
      "Approx 20% complete for SRR25056161.fastq.gz_trimmed.fastq.gz\n",
      "Approx 25% complete for SRR25056161.fastq.gz_trimmed.fastq.gz\n",
      "Approx 30% complete for SRR25056161.fastq.gz_trimmed.fastq.gz\n",
      "Approx 35% complete for SRR25056161.fastq.gz_trimmed.fastq.gz\n",
      "Approx 40% complete for SRR25056161.fastq.gz_trimmed.fastq.gz\n",
      "Approx 45% complete for SRR25056161.fastq.gz_trimmed.fastq.gz\n",
      "Approx 50% complete for SRR25056161.fastq.gz_trimmed.fastq.gz\n",
      "Approx 55% complete for SRR25056161.fastq.gz_trimmed.fastq.gz\n",
      "Approx 60% complete for SRR25056161.fastq.gz_trimmed.fastq.gz\n",
      "Approx 65% complete for SRR25056161.fastq.gz_trimmed.fastq.gz\n",
      "Approx 70% complete for SRR25056161.fastq.gz_trimmed.fastq.gz\n",
      "Approx 75% complete for SRR25056161.fastq.gz_trimmed.fastq.gz\n",
      "Approx 80% complete for SRR25056161.fastq.gz_trimmed.fastq.gz\n",
      "Approx 85% complete for SRR25056161.fastq.gz_trimmed.fastq.gz\n",
      "Approx 90% complete for SRR25056161.fastq.gz_trimmed.fastq.gz\n",
      "Approx 95% complete for SRR25056161.fastq.gz_trimmed.fastq.gz\n"
     ]
    },
    {
     "name": "stdout",
     "output_type": "stream",
     "text": [
      "Analysis complete for SRR25056161.fastq.gz_trimmed.fastq.gz\n",
      "🔬 Analyzing trimmed_fastq/SRR25056162.fastq.gz_trimmed.fastq.gz...\n",
      "application/gzip\n"
     ]
    },
    {
     "name": "stderr",
     "output_type": "stream",
     "text": [
      "Started analysis of SRR25056162.fastq.gz_trimmed.fastq.gz\n",
      "Approx 5% complete for SRR25056162.fastq.gz_trimmed.fastq.gz\n",
      "Approx 10% complete for SRR25056162.fastq.gz_trimmed.fastq.gz\n",
      "Approx 15% complete for SRR25056162.fastq.gz_trimmed.fastq.gz\n",
      "Approx 20% complete for SRR25056162.fastq.gz_trimmed.fastq.gz\n",
      "Approx 25% complete for SRR25056162.fastq.gz_trimmed.fastq.gz\n",
      "Approx 30% complete for SRR25056162.fastq.gz_trimmed.fastq.gz\n",
      "Approx 35% complete for SRR25056162.fastq.gz_trimmed.fastq.gz\n",
      "Approx 40% complete for SRR25056162.fastq.gz_trimmed.fastq.gz\n",
      "Approx 45% complete for SRR25056162.fastq.gz_trimmed.fastq.gz\n",
      "Approx 50% complete for SRR25056162.fastq.gz_trimmed.fastq.gz\n",
      "Approx 55% complete for SRR25056162.fastq.gz_trimmed.fastq.gz\n",
      "Approx 60% complete for SRR25056162.fastq.gz_trimmed.fastq.gz\n",
      "Approx 65% complete for SRR25056162.fastq.gz_trimmed.fastq.gz\n",
      "Approx 70% complete for SRR25056162.fastq.gz_trimmed.fastq.gz\n",
      "Approx 75% complete for SRR25056162.fastq.gz_trimmed.fastq.gz\n",
      "Approx 80% complete for SRR25056162.fastq.gz_trimmed.fastq.gz\n",
      "Approx 85% complete for SRR25056162.fastq.gz_trimmed.fastq.gz\n",
      "Approx 90% complete for SRR25056162.fastq.gz_trimmed.fastq.gz\n",
      "Approx 95% complete for SRR25056162.fastq.gz_trimmed.fastq.gz\n"
     ]
    },
    {
     "name": "stdout",
     "output_type": "stream",
     "text": [
      "Analysis complete for SRR25056162.fastq.gz_trimmed.fastq.gz\n"
     ]
    },
    {
     "name": "stderr",
     "output_type": "stream",
     "text": [
      "\n",
      "  \u001b[91m///\u001b[0m \u001b]8;id=693504;https://multiqc.info\u001b\\\u001b[1mMultiQC\u001b[0m\u001b]8;;\u001b\\ 🔍 \u001b[2m| v1.19\u001b[0m\n",
      "\n",
      "\u001b[34m|           multiqc\u001b[0m | \u001b[33mMultiQC Version v1.27 now available!\u001b[0m\n",
      "\u001b[34m|           multiqc\u001b[0m | Search path : /mnt/e/CRPC/fastqc_trimmed\n",
      "\u001b[2K\u001b[34m|\u001b[0m         \u001b[34msearching\u001b[0m | \u001b[90m━━━━━━━━━━━━━━━━━━━━━━━━━━━━━━━━━━━━━━━━\u001b[0m \u001b[35m100%\u001b[0m \u001b[32m20/20\u001b[0m  \u001b[0m0m  \n",
      "\u001b[?25h\u001b[34m|            fastqc\u001b[0m | Found 10 reports\n",
      "\u001b[34m|           multiqc\u001b[0m | Report      : fastqc_trimmed/multiqc_report.html\n",
      "\u001b[34m|           multiqc\u001b[0m | Data        : fastqc_trimmed/multiqc_data\n",
      "\u001b[34m|           multiqc\u001b[0m | MultiQC complete\n"
     ]
    },
    {
     "data": {
      "text/plain": [
       "CompletedProcess(args='multiqc fastqc_trimmed -o fastqc_trimmed', returncode=0)"
      ]
     },
     "execution_count": 9,
     "metadata": {},
     "output_type": "execute_result"
    }
   ],
   "source": [
    "os.makedirs(\"fastqc_trimmed\", exist_ok=True)\n",
    "\n",
    "for file in glob.glob(\"trimmed_fastq/*.fastq.gz\"):\n",
    "    print(f\"🔬 Analyzing {file}...\")\n",
    "    subprocess.run(f\"fastqc -o fastqc_trimmed \\\"{file}\\\"\", shell=True, text=True)\n",
    "\n",
    "subprocess.run(\"multiqc fastqc_trimmed -o fastqc_trimmed\", shell=True, text=True)"
   ]
  },
  {
   "cell_type": "code",
   "execution_count": 5,
   "id": "427ddc49-3df0-46f8-ad5e-a2721630c131",
   "metadata": {
    "scrolled": true
   },
   "outputs": [
    {
     "name": "stderr",
     "output_type": "stream",
     "text": [
      "slamdunk all\n",
      "Running slamDunk map for 10 files (32 threads)\n",
      "..........\n",
      "Running slamDunk sam2bam for 10 files (32 threads)\n",
      "..........\n",
      "Creating output directory: results_slam/all/filter\n",
      "Running slamDunk filter for 10 files (32 threads)\n",
      "........\n",
      "\n",
      "Creating output directory: results_slam/all/snp\n",
      "Running slamDunk SNP for 10 files (16 threads)\n",
      "..\n",
      "Creating output directory: results_slam/all/count\n",
      "Running slamDunk tcount for 10 files (32 threads)\n",
      ".........."
     ]
    },
    {
     "data": {
      "text/plain": [
       "CompletedProcess(args='slamdunk all -r Homo_sapiens.GRCh38.dna.primary_assembly.fa -b Homo_sapiens.GRCh38.110.bed -o results_slam/all -t 32 -n 1 -e trimmed_fastq/SRR25056153_trimmed.fastq.gz trimmed_fastq/SRR25056154_trimmed.fastq.gz trimmed_fastq/SRR25056155_trimmed.fastq.gz trimmed_fastq/SRR25056156_trimmed.fastq.gz trimmed_fastq/SRR25056157_trimmed.fastq.gz trimmed_fastq/SRR25056158_trimmed.fastq.gz trimmed_fastq/SRR25056159_trimmed.fastq.gz trimmed_fastq/SRR25056160_trimmed.fastq.gz trimmed_fastq/SRR25056161_trimmed.fastq.gz trimmed_fastq/SRR25056162_trimmed.fastq.gz', returncode=0)"
      ]
     },
     "execution_count": 5,
     "metadata": {},
     "output_type": "execute_result"
    }
   ],
   "source": [
    "trimmed_fastq = \" \".join(glob.glob(\"trimmed_fastq/*_trimmed.fastq.gz\"))\n",
    "subprocess.run(\n",
    "    f\"slamdunk all -r Homo_sapiens.GRCh38.dna.primary_assembly.fa \"\n",
    "    f\"-b Homo_sapiens.GRCh38.110.bed -o results_slam/all -t 32 -n 1 -e \"\n",
    "    f\"{trimmed_fastq}\",\n",
    "    shell=True, check=True\n",
    ")"
   ]
  },
  {
   "cell_type": "code",
   "execution_count": 11,
   "id": "2ed52568-814f-47f4-b66b-a732c1188b77",
   "metadata": {},
   "outputs": [
    {
     "name": "stdout",
     "output_type": "stream",
     "text": [
      "results_slam/all:\n",
      "total 0\n",
      "drwxrwxrwx 1 nastasista nastasista 4.0K Feb 13 15:41 count\n",
      "drwxrwxrwx 1 nastasista nastasista 4.0K Feb 13 15:23 filter\n",
      "drwxrwxrwx 1 nastasista nastasista 4.0K Feb 13 08:56 map\n",
      "drwxrwxrwx 1 nastasista nastasista 4.0K Feb 13 15:23 snp\n",
      "\n",
      "results_slam/all/count:\n",
      "total 0\n",
      "\n",
      "results_slam/all/filter:\n",
      "total 13G\n",
      "-rwxrwxrwx 1 nastasista nastasista 1.0G Feb 13 13:00 SRR25056153_trimmed.fastq_slamdunk_mapped_filtered.bam\n",
      "-rwxrwxrwx 1 nastasista nastasista 4.3M Feb 13 13:02 SRR25056153_trimmed.fastq_slamdunk_mapped_filtered.bam.bai\n",
      "-rwxrwxrwx 1 nastasista nastasista  261 Feb 13 13:02 SRR25056153_trimmed.fastq_slamdunk_mapped_filtered.log\n",
      "-rwxrwxrwx 1 nastasista nastasista 1.3G Feb 13 15:04 SRR25056154_trimmed.fastq_slamdunk_mapped_filtered.bam\n",
      "-rwxrwxrwx 1 nastasista nastasista 4.1M Feb 13 15:05 SRR25056154_trimmed.fastq_slamdunk_mapped_filtered.bam.bai\n",
      "-rwxrwxrwx 1 nastasista nastasista  262 Feb 13 15:05 SRR25056154_trimmed.fastq_slamdunk_mapped_filtered.log\n",
      "-rwxrwxrwx 1 nastasista nastasista 1.1G Feb 13 13:32 SRR25056155_trimmed.fastq_slamdunk_mapped_filtered.bam\n",
      "-rwxrwxrwx 1 nastasista nastasista 4.5M Feb 13 13:34 SRR25056155_trimmed.fastq_slamdunk_mapped_filtered.bam.bai\n",
      "-rwxrwxrwx 1 nastasista nastasista  261 Feb 13 13:34 SRR25056155_trimmed.fastq_slamdunk_mapped_filtered.log\n",
      "-rwxrwxrwx 1 nastasista nastasista 1.3G Feb 13 14:45 SRR25056156_trimmed.fastq_slamdunk_mapped_filtered.bam\n",
      "-rwxrwxrwx 1 nastasista nastasista 4.2M Feb 13 14:46 SRR25056156_trimmed.fastq_slamdunk_mapped_filtered.bam.bai\n",
      "-rwxrwxrwx 1 nastasista nastasista  262 Feb 13 14:46 SRR25056156_trimmed.fastq_slamdunk_mapped_filtered.log\n",
      "-rwxrwxrwx 1 nastasista nastasista 1.5G Feb 13 15:18 SRR25056157_trimmed.fastq_slamdunk_mapped_filtered.bam\n",
      "-rwxrwxrwx 1 nastasista nastasista 4.4M Feb 13 15:20 SRR25056157_trimmed.fastq_slamdunk_mapped_filtered.bam.bai\n",
      "-rwxrwxrwx 1 nastasista nastasista  262 Feb 13 15:20 SRR25056157_trimmed.fastq_slamdunk_mapped_filtered.log\n",
      "-rwxrwxrwx 1 nastasista nastasista 1.4G Feb 13 15:21 SRR25056158_trimmed.fastq_slamdunk_mapped_filtered.bam\n",
      "-rwxrwxrwx 1 nastasista nastasista 4.6M Feb 13 15:23 SRR25056158_trimmed.fastq_slamdunk_mapped_filtered.bam.bai\n",
      "-rwxrwxrwx 1 nastasista nastasista  262 Feb 13 15:23 SRR25056158_trimmed.fastq_slamdunk_mapped_filtered.log\n",
      "-rwxrwxrwx 1 nastasista nastasista 1.1G Feb 13 09:20 SRR25056159_trimmed.fastq_slamdunk_mapped_filtered.bam\n",
      "-rwxrwxrwx 1 nastasista nastasista 4.4M Feb 13 09:22 SRR25056159_trimmed.fastq_slamdunk_mapped_filtered.bam.bai\n",
      "-rwxrwxrwx 1 nastasista nastasista  261 Feb 13 09:22 SRR25056159_trimmed.fastq_slamdunk_mapped_filtered.log\n",
      "-rwxrwxrwx 1 nastasista nastasista 1.4G Feb 13 15:16 SRR25056160_trimmed.fastq_slamdunk_mapped_filtered.bam\n",
      "-rwxrwxrwx 1 nastasista nastasista 4.3M Feb 13 15:18 SRR25056160_trimmed.fastq_slamdunk_mapped_filtered.bam.bai\n",
      "-rwxrwxrwx 1 nastasista nastasista  262 Feb 13 15:18 SRR25056160_trimmed.fastq_slamdunk_mapped_filtered.log\n",
      "-rwxrwxrwx 1 nastasista nastasista 1.2G Feb 13 14:17 SRR25056161_trimmed.fastq_slamdunk_mapped_filtered.bam\n",
      "-rwxrwxrwx 1 nastasista nastasista 4.4M Feb 13 14:19 SRR25056161_trimmed.fastq_slamdunk_mapped_filtered.bam.bai\n",
      "-rwxrwxrwx 1 nastasista nastasista  262 Feb 13 14:19 SRR25056161_trimmed.fastq_slamdunk_mapped_filtered.log\n",
      "-rwxrwxrwx 1 nastasista nastasista 1.4G Feb 13 15:06 SRR25056162_trimmed.fastq_slamdunk_mapped_filtered.bam\n",
      "-rwxrwxrwx 1 nastasista nastasista 4.6M Feb 13 15:07 SRR25056162_trimmed.fastq_slamdunk_mapped_filtered.bam.bai\n",
      "-rwxrwxrwx 1 nastasista nastasista  262 Feb 13 15:07 SRR25056162_trimmed.fastq_slamdunk_mapped_filtered.log\n",
      "\n",
      "results_slam/all/map:\n",
      "total 47G\n",
      "-rwxrwxrwx 1 nastasista nastasista 3.6G Feb 13 01:13 SRR25056153_trimmed.fastq_slamdunk_mapped.bam\n",
      "-rwxrwxrwx 1 nastasista nastasista 3.5K Feb 13 08:05 SRR25056153_trimmed.fastq_slamdunk_mapped.log\n",
      "-rwxrwxrwx 1 nastasista nastasista 4.8G Feb 13 01:21 SRR25056154_trimmed.fastq_slamdunk_mapped.bam\n",
      "-rwxrwxrwx 1 nastasista nastasista 3.5K Feb 13 08:05 SRR25056154_trimmed.fastq_slamdunk_mapped.log\n",
      "-rwxrwxrwx 1 nastasista nastasista 3.8G Feb 13 01:26 SRR25056155_trimmed.fastq_slamdunk_mapped.bam\n",
      "-rwxrwxrwx 1 nastasista nastasista 3.5K Feb 13 08:05 SRR25056155_trimmed.fastq_slamdunk_mapped.log\n",
      "-rwxrwxrwx 1 nastasista nastasista 4.9G Feb 13 08:12 SRR25056156_trimmed.fastq_slamdunk_mapped.bam\n",
      "-rwxrwxrwx 1 nastasista nastasista 3.4K Feb 13 07:04 SRR25056156_trimmed.fastq_slamdunk_mapped.log\n",
      "-rwxrwxrwx 1 nastasista nastasista 5.5G Feb 13 08:20 SRR25056157_trimmed.fastq_slamdunk_mapped.bam\n",
      "-rwxrwxrwx 1 nastasista nastasista 6.7K Feb 13 07:16 SRR25056157_trimmed.fastq_slamdunk_mapped.log\n",
      "-rwxrwxrwx 1 nastasista nastasista 5.2G Feb 13 08:27 SRR25056158_trimmed.fastq_slamdunk_mapped.bam\n",
      "-rwxrwxrwx 1 nastasista nastasista 6.7K Feb 13 07:26 SRR25056158_trimmed.fastq_slamdunk_mapped.log\n",
      "-rwxrwxrwx 1 nastasista nastasista 3.8G Feb 13 08:33 SRR25056159_trimmed.fastq_slamdunk_mapped.bam\n",
      "-rwxrwxrwx 1 nastasista nastasista 6.7K Feb 13 07:34 SRR25056159_trimmed.fastq_slamdunk_mapped.log\n",
      "-rwxrwxrwx 1 nastasista nastasista 5.5G Feb 13 08:40 SRR25056160_trimmed.fastq_slamdunk_mapped.bam\n",
      "-rwxrwxrwx 1 nastasista nastasista 6.7K Feb 13 07:44 SRR25056160_trimmed.fastq_slamdunk_mapped.log\n",
      "-rwxrwxrwx 1 nastasista nastasista 4.7G Feb 13 08:47 SRR25056161_trimmed.fastq_slamdunk_mapped.bam\n",
      "-rwxrwxrwx 1 nastasista nastasista 6.7K Feb 13 07:53 SRR25056161_trimmed.fastq_slamdunk_mapped.log\n",
      "-rwxrwxrwx 1 nastasista nastasista 5.6G Feb 13 08:56 SRR25056162_trimmed.fastq_slamdunk_mapped.bam\n",
      "-rwxrwxrwx 1 nastasista nastasista 6.7K Feb 13 08:05 SRR25056162_trimmed.fastq_slamdunk_mapped.log\n",
      "\n",
      "results_slam/all/snp:\n",
      "total 44M\n",
      "-rwxrwxrwx 1 nastasista nastasista 3.0K Feb 13 15:36 SRR25056153_trimmed.fastq_slamdunk_mapped_filtered_snp.log\n",
      "-rwxrwxrwx 1 nastasista nastasista 3.2M Feb 13 15:36 SRR25056153_trimmed.fastq_slamdunk_mapped_filtered_snp.vcf\n",
      "-rwxrwxrwx 1 nastasista nastasista 3.0K Feb 13 15:37 SRR25056154_trimmed.fastq_slamdunk_mapped_filtered_snp.log\n",
      "-rwxrwxrwx 1 nastasista nastasista 4.6M Feb 13 15:37 SRR25056154_trimmed.fastq_slamdunk_mapped_filtered_snp.vcf\n",
      "-rwxrwxrwx 1 nastasista nastasista 3.0K Feb 13 15:36 SRR25056155_trimmed.fastq_slamdunk_mapped_filtered_snp.log\n",
      "-rwxrwxrwx 1 nastasista nastasista 3.2M Feb 13 15:36 SRR25056155_trimmed.fastq_slamdunk_mapped_filtered_snp.vcf\n",
      "-rwxrwxrwx 1 nastasista nastasista 3.0K Feb 13 15:37 SRR25056156_trimmed.fastq_slamdunk_mapped_filtered_snp.log\n",
      "-rwxrwxrwx 1 nastasista nastasista 4.4M Feb 13 15:37 SRR25056156_trimmed.fastq_slamdunk_mapped_filtered_snp.vcf\n",
      "-rwxrwxrwx 1 nastasista nastasista 3.0K Feb 13 15:41 SRR25056157_trimmed.fastq_slamdunk_mapped_filtered_snp.log\n",
      "-rwxrwxrwx 1 nastasista nastasista 4.6M Feb 13 15:41 SRR25056157_trimmed.fastq_slamdunk_mapped_filtered_snp.vcf\n",
      "-rwxrwxrwx 1 nastasista nastasista 3.0K Feb 13 15:38 SRR25056158_trimmed.fastq_slamdunk_mapped_filtered_snp.log\n",
      "-rwxrwxrwx 1 nastasista nastasista 5.0M Feb 13 15:38 SRR25056158_trimmed.fastq_slamdunk_mapped_filtered_snp.vcf\n",
      "-rwxrwxrwx 1 nastasista nastasista 3.0K Feb 13 15:37 SRR25056159_trimmed.fastq_slamdunk_mapped_filtered_snp.log\n",
      "-rwxrwxrwx 1 nastasista nastasista 3.2M Feb 13 15:37 SRR25056159_trimmed.fastq_slamdunk_mapped_filtered_snp.vcf\n",
      "-rwxrwxrwx 1 nastasista nastasista 3.0K Feb 13 15:38 SRR25056160_trimmed.fastq_slamdunk_mapped_filtered_snp.log\n",
      "-rwxrwxrwx 1 nastasista nastasista 5.0M Feb 13 15:38 SRR25056160_trimmed.fastq_slamdunk_mapped_filtered_snp.vcf\n",
      "-rwxrwxrwx 1 nastasista nastasista 3.0K Feb 13 15:37 SRR25056161_trimmed.fastq_slamdunk_mapped_filtered_snp.log\n",
      "-rwxrwxrwx 1 nastasista nastasista 4.8M Feb 13 15:37 SRR25056161_trimmed.fastq_slamdunk_mapped_filtered_snp.vcf\n",
      "-rwxrwxrwx 1 nastasista nastasista 3.0K Feb 13 15:38 SRR25056162_trimmed.fastq_slamdunk_mapped_filtered_snp.log\n",
      "-rwxrwxrwx 1 nastasista nastasista 6.3M Feb 13 15:38 SRR25056162_trimmed.fastq_slamdunk_mapped_filtered_snp.vcf\n"
     ]
    },
    {
     "data": {
      "text/plain": [
       "CompletedProcess(args='ls -lhR results_slam/all', returncode=0)"
      ]
     },
     "execution_count": 11,
     "metadata": {},
     "output_type": "execute_result"
    }
   ],
   "source": [
    "subprocess.run(\"ls -lhR results_slam/all\", shell=True)"
   ]
  },
  {
   "cell_type": "code",
   "execution_count": 12,
   "id": "6c340ff5-a068-4c59-a3dc-d7f98b2e3be8",
   "metadata": {},
   "outputs": [
    {
     "name": "stdout",
     "output_type": "stream",
     "text": [
      "results_slam/all/snp/SRR25056153_trimmed.fastq_slamdunk_mapped_filtered_snp.vcf:20857\n",
      "results_slam/all/snp/SRR25056154_trimmed.fastq_slamdunk_mapped_filtered_snp.vcf:30696\n",
      "results_slam/all/snp/SRR25056155_trimmed.fastq_slamdunk_mapped_filtered_snp.vcf:21164\n",
      "results_slam/all/snp/SRR25056156_trimmed.fastq_slamdunk_mapped_filtered_snp.vcf:29038\n",
      "results_slam/all/snp/SRR25056157_trimmed.fastq_slamdunk_mapped_filtered_snp.vcf:30842\n",
      "results_slam/all/snp/SRR25056158_trimmed.fastq_slamdunk_mapped_filtered_snp.vcf:33029\n",
      "results_slam/all/snp/SRR25056159_trimmed.fastq_slamdunk_mapped_filtered_snp.vcf:21239\n",
      "results_slam/all/snp/SRR25056160_trimmed.fastq_slamdunk_mapped_filtered_snp.vcf:33501\n",
      "results_slam/all/snp/SRR25056161_trimmed.fastq_slamdunk_mapped_filtered_snp.vcf:31970\n",
      "results_slam/all/snp/SRR25056162_trimmed.fastq_slamdunk_mapped_filtered_snp.vcf:42004\n"
     ]
    },
    {
     "data": {
      "text/plain": [
       "CompletedProcess(args=\"grep -vc '^#' results_slam/all/snp/*.vcf\", returncode=0)"
      ]
     },
     "execution_count": 12,
     "metadata": {},
     "output_type": "execute_result"
    }
   ],
   "source": [
    "subprocess.run(\"grep -vc '^#' results_slam/all/snp/*.vcf\", shell=True)"
   ]
  },
  {
   "cell_type": "code",
   "execution_count": 15,
   "id": "f5e21e47-8a6a-4f83-b5b9-18b1472ef22d",
   "metadata": {},
   "outputs": [
    {
     "ename": "SyntaxError",
     "evalue": "invalid syntax (1778649688.py, line 1)",
     "output_type": "error",
     "traceback": [
      "\u001b[0;36m  Cell \u001b[0;32mIn[15], line 1\u001b[0;36m\u001b[0m\n\u001b[0;31m    samtools view -H results_slam/all/map/SRR25056153_trimmed.fastq_slamdunk_mapped.bam | grep '@RG'\u001b[0m\n\u001b[0m             ^\u001b[0m\n\u001b[0;31mSyntaxError\u001b[0m\u001b[0;31m:\u001b[0m invalid syntax\n"
     ]
    }
   ],
   "source": [
    "samtools view -H results_slam/all/map/SRR25056153_trimmed.fastq_slamdunk_mapped.bam | grep '@RG'"
   ]
  },
  {
   "cell_type": "code",
   "execution_count": 14,
   "id": "adfcc3bb-e6ab-4381-8051-d47e53c7aa5f",
   "metadata": {},
   "outputs": [
    {
     "name": "stderr",
     "output_type": "stream",
     "text": [
      "Running slamDunk tcount for 10 files (1 threads)\n",
      "Traceback (most recent call last):\n",
      "  File \"/home/nastasista/miniconda3/envs/slamdunk/bin/slamdunk\", line 10, in <module>\n",
      "    sys.exit(run())\n",
      "             ^^^^^\n",
      "  File \"/home/nastasista/miniconda3/envs/slamdunk/lib/python3.12/site-packages/slamdunk/slamdunk.py\", line 516, in run\n",
      "    results = Parallel(n_jobs=n, verbose=verbose)(delayed(runCount)(tid, args.bam[tid], args.ref, args.bed, args.maxLength, args.minQual, args.conversionThreshold, outputDirectory, snpDirectory, vcfFile) for tid in range(0, len(args.bam)))\n",
      "              ^^^^^^^^^^^^^^^^^^^^^^^^^^^^^^^^^^^^^^^^^^^^^^^^^^^^^^^^^^^^^^^^^^^^^^^^^^^^^^^^^^^^^^^^^^^^^^^^^^^^^^^^^^^^^^^^^^^^^^^^^^^^^^^^^^^^^^^^^^^^^^^^^^^^^^^^^^^^^^^^^^^^^^^^^^^^^^^^^^^^^^^^^^^^^^^^^^^^^^^^^^^^^^^^^^^^^^^^^^^^^^^^^\n",
      "  File \"/home/nastasista/miniconda3/envs/slamdunk/lib/python3.12/site-packages/joblib/parallel.py\", line 1918, in __call__\n",
      "    return output if self.return_generator else list(output)\n",
      "                                                ^^^^^^^^^^^^\n",
      "  File \"/home/nastasista/miniconda3/envs/slamdunk/lib/python3.12/site-packages/joblib/parallel.py\", line 1847, in _get_sequential_output\n",
      "    res = func(*args, **kwargs)\n",
      "          ^^^^^^^^^^^^^^^^^^^^^\n",
      "  File \"/home/nastasista/miniconda3/envs/slamdunk/lib/python3.12/site-packages/slamdunk/slamdunk.py\", line 202, in runCount\n",
      "    tcounter.computeTconversions(ref, bed, inputSNP, bam, maxLength, minQual, outputCSV, outputBedgraphPlus, outputBedgraphMinus, conversionThreshold, log)\n",
      "  File \"/home/nastasista/miniconda3/envs/slamdunk/lib/python3.12/site-packages/slamdunk/dunks/tcounter.py\", line 131, in computeTconversions\n",
      "    slamseqInfo = SlamSeqInfo(bam)\n",
      "                  ^^^^^^^^^^^^^^^^\n",
      "  File \"/home/nastasista/miniconda3/envs/slamdunk/lib/python3.12/site-packages/slamdunk/utils/misc.py\", line 67, in __init__\n",
      "    DS = ast.literal_eval(getReadGroup(bam)['DS'])\n",
      "                          ~~~~~~~~~~~~~~~~~^^^^^^\n",
      "KeyError: 'DS'\n"
     ]
    },
    {
     "data": {
      "text/plain": [
       "CompletedProcess(args='slamdunk count -r Homo_sapiens.GRCh38.dna.primary_assembly.fa -b Homo_sapiens.GRCh38.110.bed -o results_slam/tcount_fixed --max-read-length 100 results_slam/all/map/*.bam', returncode=1)"
      ]
     },
     "execution_count": 14,
     "metadata": {},
     "output_type": "execute_result"
    }
   ],
   "source": [
    "subprocess.run(\n",
    "    \"slamdunk count -r Homo_sapiens.GRCh38.dna.primary_assembly.fa \"\n",
    "    \"-b Homo_sapiens.GRCh38.110.bed -o results_slam/tcount_fixed --max-read-length 100 \"\n",
    "    \"results_slam/all/map/*.bam\",\n",
    "    shell=True\n",
    ")"
   ]
  },
  {
   "cell_type": "code",
   "execution_count": null,
   "id": "7b0d3f12-5c61-41f4-af90-d84a4385cda5",
   "metadata": {},
   "outputs": [],
   "source": []
  }
 ],
 "metadata": {
  "kernelspec": {
   "display_name": "Python (slamdunk)",
   "language": "python",
   "name": "slamdunk"
  },
  "language_info": {
   "codemirror_mode": {
    "name": "ipython",
    "version": 3
   },
   "file_extension": ".py",
   "mimetype": "text/x-python",
   "name": "python",
   "nbconvert_exporter": "python",
   "pygments_lexer": "ipython3",
   "version": "3.12.8"
  }
 },
 "nbformat": 4,
 "nbformat_minor": 5
}
