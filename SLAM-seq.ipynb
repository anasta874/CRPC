{
 "cells": [
  {
   "cell_type": "code",
   "execution_count": 7,
   "id": "0e45f245-9ba8-4e5a-ad78-8d943a544856",
   "metadata": {},
   "outputs": [],
   "source": [
    "import os\n",
    "import subprocess\n",
    "import glob\n",
    "from IPython.display import display"
   ]
  },
  {
   "cell_type": "code",
   "execution_count": 2,
   "id": "7bd90537-b804-4552-bef7-6d86ef4764c3",
   "metadata": {},
   "outputs": [],
   "source": [
    "data_dir = \"/mnt/e/CRPC/data/\"\n",
    "fastqc_output = \"/mnt/e/CRPC/fastqc_results/\""
   ]
  },
  {
   "cell_type": "code",
   "execution_count": 3,
   "id": "84b09024-e669-421d-b63b-6185d284fa88",
   "metadata": {},
   "outputs": [
    {
     "name": "stdout",
     "output_type": "stream",
     "text": [
      "🔍 Files found: ['/mnt/e/CRPC/data/SRR25056153.fastq.gz', '/mnt/e/CRPC/data/SRR25056154.fastq.gz', '/mnt/e/CRPC/data/SRR25056155.fastq.gz', '/mnt/e/CRPC/data/SRR25056156.fastq.gz', '/mnt/e/CRPC/data/SRR25056157.fastq.gz', '/mnt/e/CRPC/data/SRR25056158.fastq.gz', '/mnt/e/CRPC/data/SRR25056159.fastq.gz', '/mnt/e/CRPC/data/SRR25056160.fastq.gz', '/mnt/e/CRPC/data/SRR25056161.fastq.gz', '/mnt/e/CRPC/data/SRR25056162.fastq.gz']\n"
     ]
    }
   ],
   "source": [
    "# List of FASTQ files\n",
    "data = glob.glob(os.path.join(data_dir, \"*.fastq.gz\"))\n",
    "print(\"🔍 Files found:\", data)"
   ]
  },
  {
   "cell_type": "code",
   "execution_count": null,
   "id": "8e557c2e-e3fc-496a-9683-873d378bf01f",
   "metadata": {
    "scrolled": true
   },
   "outputs": [],
   "source": [
    "# Step 1: FastQC\n",
    "for file in data:\n",
    "    print(f\"🔍 Analyzing  {file}...\")\n",
    "    subprocess.run(f\"fastqc -o \\\"{fastqc_output}\\\" \\\"{file}\\\"\", shell=True, text=True)"
   ]
  },
  {
   "cell_type": "code",
   "execution_count": 10,
   "id": "485cb506-24cb-47af-b03c-c69965af48e6",
   "metadata": {
    "scrolled": true
   },
   "outputs": [
    {
     "name": "stderr",
     "output_type": "stream",
     "text": [
      "\n",
      "  \u001b[91m///\u001b[0m \u001b]8;id=794087;https://multiqc.info\u001b\\\u001b[1mMultiQC\u001b[0m\u001b]8;;\u001b\\ 🔍 \u001b[2m| v1.19\u001b[0m\n",
      "\n",
      "\u001b[34m|           multiqc\u001b[0m | \u001b[33mMultiQC Version v1.27 now available!\u001b[0m\n",
      "\u001b[34m|           multiqc\u001b[0m | Search path : /mnt/e/CRPC/fastqc_results\n",
      "\u001b[2K\u001b[34m|\u001b[0m         \u001b[34msearching\u001b[0m | \u001b[90m━━━━━━━━━━━━━━━━━━━━━━━━━━━━━━━━━━━━━━━━\u001b[0m \u001b[35m100%\u001b[0m \u001b[32m20/20\u001b[0m  [2m/mnt/e/CRPC/fastqc_results/SRR25056162_fastqc.zip\u001b[0m/SRR25056159_fastqc.zip\u001b[0m\n",
      "\u001b[?25h\u001b[34m|            fastqc\u001b[0m | Found 10 reports\n",
      "\u001b[34m|           multiqc\u001b[0m | Report      : fastqc_results/multiqc_report.html\n",
      "\u001b[34m|           multiqc\u001b[0m | Data        : fastqc_results/multiqc_data\n",
      "\u001b[34m|           multiqc\u001b[0m | MultiQC complete\n"
     ]
    },
    {
     "data": {
      "text/plain": [
       "CompletedProcess(args='multiqc /mnt/e/CRPC/fastqc_results/ -o /mnt/e/CRPC/fastqc_results/', returncode=0)"
      ]
     },
     "execution_count": 10,
     "metadata": {},
     "output_type": "execute_result"
    }
   ],
   "source": [
    "subprocess.run(f\"multiqc {fastqc_output} -o {fastqc_output}\", shell=True, text=True)"
   ]
  },
  {
   "cell_type": "code",
   "execution_count": 7,
   "id": "3af7353c-9069-4f20-893a-3bb97f165aad",
   "metadata": {
    "scrolled": true
   },
   "outputs": [
    {
     "name": "stdout",
     "output_type": "stream",
     "text": [
      "Running Trimmomatic...\n",
      "✂️ Processing: /mnt/e/CRPC/data/SRR25056160.fastq.gz\n"
     ]
    },
    {
     "name": "stderr",
     "output_type": "stream",
     "text": [
      "TrimmomaticSE: Started with arguments:\n",
      " -phred33 /mnt/e/CRPC/data/SRR25056160.fastq.gz trimmed_fastq/SRR25056160.fastq.gz_trimmed.fastq.gz ILLUMINACLIP:adapters.fa:2:30:10:2:True SLIDINGWINDOW:4:20\n",
      "Automatically using 1 threads\n",
      "Using Long Clipping Sequence: 'AGATCGGAAGAGCACACGTCTGAACTCCAGTCAC'\n",
      "Using Long Clipping Sequence: 'AAAAAAAAAAAAAAAAAAAAAAAAAAAAAAAA'\n",
      "Using Long Clipping Sequence: 'TTTTTTTTTTTTTTTTTTTTTTTTTTTTTTTT'\n",
      "Using Long Clipping Sequence: 'AGATCGGAAGAGCGTCGTGTAGGGAAAGAGTGT'\n",
      "ILLUMINACLIP: Using 0 prefix pairs, 4 forward/reverse sequences, 0 forward only sequences, 0 reverse only sequences\n",
      "Input Reads: 81374548 Surviving: 80023505 (98.34%) Dropped: 1351043 (1.66%)\n",
      "TrimmomaticSE: Completed successfully\n",
      "TrimmomaticSE: Started with arguments:\n",
      " -phred33 /mnt/e/CRPC/data/SRR25056161.fastq.gz trimmed_fastq/SRR25056161.fastq.gz_trimmed.fastq.gz ILLUMINACLIP:adapters.fa:2:30:10:2:True SLIDINGWINDOW:4:20\n",
      "Automatically using 1 threads\n",
      "Using Long Clipping Sequence: 'AGATCGGAAGAGCACACGTCTGAACTCCAGTCAC'\n",
      "Using Long Clipping Sequence: 'AAAAAAAAAAAAAAAAAAAAAAAAAAAAAAAA'\n",
      "Using Long Clipping Sequence: 'TTTTTTTTTTTTTTTTTTTTTTTTTTTTTTTT'\n",
      "Using Long Clipping Sequence: 'AGATCGGAAGAGCGTCGTGTAGGGAAAGAGTGT'\n",
      "ILLUMINACLIP: Using 0 prefix pairs, 4 forward/reverse sequences, 0 forward only sequences, 0 reverse only sequences\n"
     ]
    },
    {
     "name": "stdout",
     "output_type": "stream",
     "text": [
      "✂️ Processing: /mnt/e/CRPC/data/SRR25056161.fastq.gz\n"
     ]
    },
    {
     "name": "stderr",
     "output_type": "stream",
     "text": [
      "Input Reads: 66149895 Surviving: 65518827 (99.05%) Dropped: 631068 (0.95%)\n",
      "TrimmomaticSE: Completed successfully\n",
      "TrimmomaticSE: Started with arguments:\n",
      " -phred33 /mnt/e/CRPC/data/SRR25056162.fastq.gz trimmed_fastq/SRR25056162.fastq.gz_trimmed.fastq.gz ILLUMINACLIP:adapters.fa:2:30:10:2:True SLIDINGWINDOW:4:20\n",
      "Automatically using 1 threads\n",
      "Using Long Clipping Sequence: 'AGATCGGAAGAGCACACGTCTGAACTCCAGTCAC'\n",
      "Using Long Clipping Sequence: 'AAAAAAAAAAAAAAAAAAAAAAAAAAAAAAAA'\n",
      "Using Long Clipping Sequence: 'TTTTTTTTTTTTTTTTTTTTTTTTTTTTTTTT'\n",
      "Using Long Clipping Sequence: 'AGATCGGAAGAGCGTCGTGTAGGGAAAGAGTGT'\n",
      "ILLUMINACLIP: Using 0 prefix pairs, 4 forward/reverse sequences, 0 forward only sequences, 0 reverse only sequences\n"
     ]
    },
    {
     "name": "stdout",
     "output_type": "stream",
     "text": [
      "✂️ Processing: /mnt/e/CRPC/data/SRR25056162.fastq.gz\n"
     ]
    },
    {
     "name": "stderr",
     "output_type": "stream",
     "text": [
      "Input Reads: 84507819 Surviving: 82924567 (98.13%) Dropped: 1583252 (1.87%)\n",
      "TrimmomaticSE: Completed successfully\n"
     ]
    }
   ],
   "source": [
    "# Step 2: Cleaning\n",
    "output_dir = \"trimmed_fastq\"\n",
    "os.makedirs(output_dir, exist_ok=True) \n",
    "\n",
    "adapter_file = \"adapters.fa\"\n",
    "\n",
    "trimmomatic_params = {\n",
    "    \"phred\": \"-phred33\",\n",
    "    \"adapters\": f\"ILLUMINACLIP:{adapter_file}:2:30:10:2:True\",\n",
    "    \"sliding_window\": \"SLIDINGWINDOW:4:20\"\n",
    "}\n",
    "\n",
    "print(\"Running Trimmomatic...\")\n",
    "for file in fastq_files:\n",
    "    base = os.path.basename(file).replace(\"_1.fastq.gz\", \"\")\n",
    "    output_file = os.path.join(output_dir, f\"{base}_trimmed.fastq.gz\")\n",
    "    \n",
    "    trimmomatic_cmd = (\n",
    "        f\"trimmomatic SE {trimmomatic_params['phred']} {file} {output_file} \"\n",
    "        f\"{trimmomatic_params['adapters']} {trimmomatic_params['sliding_window']}\"\n",
    "    )\n",
    "    \n",
    "    print(f\"✂️ Processing: {file}\")\n",
    "    subprocess.run(trimmomatic_cmd, shell=True, text=True, check=True)"
   ]
  },
  {
   "cell_type": "code",
   "execution_count": 9,
   "id": "1d148121-2257-4420-a4e6-d89fb77c6056",
   "metadata": {
    "scrolled": true
   },
   "outputs": [
    {
     "name": "stdout",
     "output_type": "stream",
     "text": [
      "🔬 Analyzing trimmed_fastq/SRR25056153.fastq.gz_trimmed.fastq.gz...\n",
      "application/gzip\n"
     ]
    },
    {
     "name": "stderr",
     "output_type": "stream",
     "text": [
      "Started analysis of SRR25056153.fastq.gz_trimmed.fastq.gz\n",
      "Approx 5% complete for SRR25056153.fastq.gz_trimmed.fastq.gz\n",
      "Approx 10% complete for SRR25056153.fastq.gz_trimmed.fastq.gz\n",
      "Approx 15% complete for SRR25056153.fastq.gz_trimmed.fastq.gz\n",
      "Approx 20% complete for SRR25056153.fastq.gz_trimmed.fastq.gz\n",
      "Approx 25% complete for SRR25056153.fastq.gz_trimmed.fastq.gz\n",
      "Approx 30% complete for SRR25056153.fastq.gz_trimmed.fastq.gz\n",
      "Approx 35% complete for SRR25056153.fastq.gz_trimmed.fastq.gz\n",
      "Approx 40% complete for SRR25056153.fastq.gz_trimmed.fastq.gz\n",
      "Approx 45% complete for SRR25056153.fastq.gz_trimmed.fastq.gz\n",
      "Approx 50% complete for SRR25056153.fastq.gz_trimmed.fastq.gz\n",
      "Approx 55% complete for SRR25056153.fastq.gz_trimmed.fastq.gz\n",
      "Approx 60% complete for SRR25056153.fastq.gz_trimmed.fastq.gz\n",
      "Approx 65% complete for SRR25056153.fastq.gz_trimmed.fastq.gz\n",
      "Approx 70% complete for SRR25056153.fastq.gz_trimmed.fastq.gz\n",
      "Approx 75% complete for SRR25056153.fastq.gz_trimmed.fastq.gz\n",
      "Approx 80% complete for SRR25056153.fastq.gz_trimmed.fastq.gz\n",
      "Approx 85% complete for SRR25056153.fastq.gz_trimmed.fastq.gz\n",
      "Approx 90% complete for SRR25056153.fastq.gz_trimmed.fastq.gz\n",
      "Approx 95% complete for SRR25056153.fastq.gz_trimmed.fastq.gz\n"
     ]
    },
    {
     "name": "stdout",
     "output_type": "stream",
     "text": [
      "Analysis complete for SRR25056153.fastq.gz_trimmed.fastq.gz\n",
      "🔬 Analyzing trimmed_fastq/SRR25056154.fastq.gz_trimmed.fastq.gz...\n",
      "application/gzip\n"
     ]
    },
    {
     "name": "stderr",
     "output_type": "stream",
     "text": [
      "Started analysis of SRR25056154.fastq.gz_trimmed.fastq.gz\n",
      "Approx 5% complete for SRR25056154.fastq.gz_trimmed.fastq.gz\n",
      "Approx 10% complete for SRR25056154.fastq.gz_trimmed.fastq.gz\n",
      "Approx 15% complete for SRR25056154.fastq.gz_trimmed.fastq.gz\n",
      "Approx 20% complete for SRR25056154.fastq.gz_trimmed.fastq.gz\n",
      "Approx 25% complete for SRR25056154.fastq.gz_trimmed.fastq.gz\n",
      "Approx 30% complete for SRR25056154.fastq.gz_trimmed.fastq.gz\n",
      "Approx 35% complete for SRR25056154.fastq.gz_trimmed.fastq.gz\n",
      "Approx 40% complete for SRR25056154.fastq.gz_trimmed.fastq.gz\n",
      "Approx 45% complete for SRR25056154.fastq.gz_trimmed.fastq.gz\n",
      "Approx 50% complete for SRR25056154.fastq.gz_trimmed.fastq.gz\n",
      "Approx 55% complete for SRR25056154.fastq.gz_trimmed.fastq.gz\n",
      "Approx 60% complete for SRR25056154.fastq.gz_trimmed.fastq.gz\n",
      "Approx 65% complete for SRR25056154.fastq.gz_trimmed.fastq.gz\n",
      "Approx 70% complete for SRR25056154.fastq.gz_trimmed.fastq.gz\n",
      "Approx 75% complete for SRR25056154.fastq.gz_trimmed.fastq.gz\n",
      "Approx 80% complete for SRR25056154.fastq.gz_trimmed.fastq.gz\n",
      "Approx 85% complete for SRR25056154.fastq.gz_trimmed.fastq.gz\n",
      "Approx 90% complete for SRR25056154.fastq.gz_trimmed.fastq.gz\n",
      "Approx 95% complete for SRR25056154.fastq.gz_trimmed.fastq.gz\n"
     ]
    },
    {
     "name": "stdout",
     "output_type": "stream",
     "text": [
      "Analysis complete for SRR25056154.fastq.gz_trimmed.fastq.gz\n",
      "🔬 Analyzing trimmed_fastq/SRR25056155.fastq.gz_trimmed.fastq.gz...\n",
      "application/gzip\n"
     ]
    },
    {
     "name": "stderr",
     "output_type": "stream",
     "text": [
      "Started analysis of SRR25056155.fastq.gz_trimmed.fastq.gz\n",
      "Approx 5% complete for SRR25056155.fastq.gz_trimmed.fastq.gz\n",
      "Approx 10% complete for SRR25056155.fastq.gz_trimmed.fastq.gz\n",
      "Approx 15% complete for SRR25056155.fastq.gz_trimmed.fastq.gz\n",
      "Approx 20% complete for SRR25056155.fastq.gz_trimmed.fastq.gz\n",
      "Approx 25% complete for SRR25056155.fastq.gz_trimmed.fastq.gz\n",
      "Approx 30% complete for SRR25056155.fastq.gz_trimmed.fastq.gz\n",
      "Approx 35% complete for SRR25056155.fastq.gz_trimmed.fastq.gz\n",
      "Approx 40% complete for SRR25056155.fastq.gz_trimmed.fastq.gz\n",
      "Approx 45% complete for SRR25056155.fastq.gz_trimmed.fastq.gz\n",
      "Approx 50% complete for SRR25056155.fastq.gz_trimmed.fastq.gz\n",
      "Approx 55% complete for SRR25056155.fastq.gz_trimmed.fastq.gz\n",
      "Approx 60% complete for SRR25056155.fastq.gz_trimmed.fastq.gz\n",
      "Approx 65% complete for SRR25056155.fastq.gz_trimmed.fastq.gz\n",
      "Approx 70% complete for SRR25056155.fastq.gz_trimmed.fastq.gz\n",
      "Approx 75% complete for SRR25056155.fastq.gz_trimmed.fastq.gz\n",
      "Approx 80% complete for SRR25056155.fastq.gz_trimmed.fastq.gz\n",
      "Approx 85% complete for SRR25056155.fastq.gz_trimmed.fastq.gz\n",
      "Approx 90% complete for SRR25056155.fastq.gz_trimmed.fastq.gz\n",
      "Approx 95% complete for SRR25056155.fastq.gz_trimmed.fastq.gz\n"
     ]
    },
    {
     "name": "stdout",
     "output_type": "stream",
     "text": [
      "Analysis complete for SRR25056155.fastq.gz_trimmed.fastq.gz\n",
      "🔬 Analyzing trimmed_fastq/SRR25056156.fastq.gz_trimmed.fastq.gz...\n",
      "application/gzip\n"
     ]
    },
    {
     "name": "stderr",
     "output_type": "stream",
     "text": [
      "Started analysis of SRR25056156.fastq.gz_trimmed.fastq.gz\n",
      "Approx 5% complete for SRR25056156.fastq.gz_trimmed.fastq.gz\n",
      "Approx 10% complete for SRR25056156.fastq.gz_trimmed.fastq.gz\n",
      "Approx 15% complete for SRR25056156.fastq.gz_trimmed.fastq.gz\n",
      "Approx 20% complete for SRR25056156.fastq.gz_trimmed.fastq.gz\n",
      "Approx 25% complete for SRR25056156.fastq.gz_trimmed.fastq.gz\n",
      "Approx 30% complete for SRR25056156.fastq.gz_trimmed.fastq.gz\n",
      "Approx 35% complete for SRR25056156.fastq.gz_trimmed.fastq.gz\n",
      "Approx 40% complete for SRR25056156.fastq.gz_trimmed.fastq.gz\n",
      "Approx 45% complete for SRR25056156.fastq.gz_trimmed.fastq.gz\n",
      "Approx 50% complete for SRR25056156.fastq.gz_trimmed.fastq.gz\n",
      "Approx 55% complete for SRR25056156.fastq.gz_trimmed.fastq.gz\n",
      "Approx 60% complete for SRR25056156.fastq.gz_trimmed.fastq.gz\n",
      "Approx 65% complete for SRR25056156.fastq.gz_trimmed.fastq.gz\n",
      "Approx 70% complete for SRR25056156.fastq.gz_trimmed.fastq.gz\n",
      "Approx 75% complete for SRR25056156.fastq.gz_trimmed.fastq.gz\n",
      "Approx 80% complete for SRR25056156.fastq.gz_trimmed.fastq.gz\n",
      "Approx 85% complete for SRR25056156.fastq.gz_trimmed.fastq.gz\n",
      "Approx 90% complete for SRR25056156.fastq.gz_trimmed.fastq.gz\n",
      "Approx 95% complete for SRR25056156.fastq.gz_trimmed.fastq.gz\n"
     ]
    },
    {
     "name": "stdout",
     "output_type": "stream",
     "text": [
      "Analysis complete for SRR25056156.fastq.gz_trimmed.fastq.gz\n",
      "🔬 Analyzing trimmed_fastq/SRR25056157.fastq.gz_trimmed.fastq.gz...\n",
      "application/gzip\n"
     ]
    },
    {
     "name": "stderr",
     "output_type": "stream",
     "text": [
      "Started analysis of SRR25056157.fastq.gz_trimmed.fastq.gz\n",
      "Approx 5% complete for SRR25056157.fastq.gz_trimmed.fastq.gz\n",
      "Approx 10% complete for SRR25056157.fastq.gz_trimmed.fastq.gz\n",
      "Approx 15% complete for SRR25056157.fastq.gz_trimmed.fastq.gz\n",
      "Approx 20% complete for SRR25056157.fastq.gz_trimmed.fastq.gz\n",
      "Approx 25% complete for SRR25056157.fastq.gz_trimmed.fastq.gz\n",
      "Approx 30% complete for SRR25056157.fastq.gz_trimmed.fastq.gz\n",
      "Approx 35% complete for SRR25056157.fastq.gz_trimmed.fastq.gz\n",
      "Approx 40% complete for SRR25056157.fastq.gz_trimmed.fastq.gz\n",
      "Approx 45% complete for SRR25056157.fastq.gz_trimmed.fastq.gz\n",
      "Approx 50% complete for SRR25056157.fastq.gz_trimmed.fastq.gz\n",
      "Approx 55% complete for SRR25056157.fastq.gz_trimmed.fastq.gz\n",
      "Approx 60% complete for SRR25056157.fastq.gz_trimmed.fastq.gz\n",
      "Approx 65% complete for SRR25056157.fastq.gz_trimmed.fastq.gz\n",
      "Approx 70% complete for SRR25056157.fastq.gz_trimmed.fastq.gz\n",
      "Approx 75% complete for SRR25056157.fastq.gz_trimmed.fastq.gz\n",
      "Approx 80% complete for SRR25056157.fastq.gz_trimmed.fastq.gz\n",
      "Approx 85% complete for SRR25056157.fastq.gz_trimmed.fastq.gz\n",
      "Approx 90% complete for SRR25056157.fastq.gz_trimmed.fastq.gz\n",
      "Approx 95% complete for SRR25056157.fastq.gz_trimmed.fastq.gz\n"
     ]
    },
    {
     "name": "stdout",
     "output_type": "stream",
     "text": [
      "Analysis complete for SRR25056157.fastq.gz_trimmed.fastq.gz\n",
      "🔬 Analyzing trimmed_fastq/SRR25056158.fastq.gz_trimmed.fastq.gz...\n",
      "application/gzip\n"
     ]
    },
    {
     "name": "stderr",
     "output_type": "stream",
     "text": [
      "Started analysis of SRR25056158.fastq.gz_trimmed.fastq.gz\n",
      "Approx 5% complete for SRR25056158.fastq.gz_trimmed.fastq.gz\n",
      "Approx 10% complete for SRR25056158.fastq.gz_trimmed.fastq.gz\n",
      "Approx 15% complete for SRR25056158.fastq.gz_trimmed.fastq.gz\n",
      "Approx 20% complete for SRR25056158.fastq.gz_trimmed.fastq.gz\n",
      "Approx 25% complete for SRR25056158.fastq.gz_trimmed.fastq.gz\n",
      "Approx 30% complete for SRR25056158.fastq.gz_trimmed.fastq.gz\n",
      "Approx 35% complete for SRR25056158.fastq.gz_trimmed.fastq.gz\n",
      "Approx 40% complete for SRR25056158.fastq.gz_trimmed.fastq.gz\n",
      "Approx 45% complete for SRR25056158.fastq.gz_trimmed.fastq.gz\n",
      "Approx 50% complete for SRR25056158.fastq.gz_trimmed.fastq.gz\n",
      "Approx 55% complete for SRR25056158.fastq.gz_trimmed.fastq.gz\n",
      "Approx 60% complete for SRR25056158.fastq.gz_trimmed.fastq.gz\n",
      "Approx 65% complete for SRR25056158.fastq.gz_trimmed.fastq.gz\n",
      "Approx 70% complete for SRR25056158.fastq.gz_trimmed.fastq.gz\n",
      "Approx 75% complete for SRR25056158.fastq.gz_trimmed.fastq.gz\n",
      "Approx 80% complete for SRR25056158.fastq.gz_trimmed.fastq.gz\n",
      "Approx 85% complete for SRR25056158.fastq.gz_trimmed.fastq.gz\n",
      "Approx 90% complete for SRR25056158.fastq.gz_trimmed.fastq.gz\n",
      "Approx 95% complete for SRR25056158.fastq.gz_trimmed.fastq.gz\n"
     ]
    },
    {
     "name": "stdout",
     "output_type": "stream",
     "text": [
      "Analysis complete for SRR25056158.fastq.gz_trimmed.fastq.gz\n",
      "🔬 Analyzing trimmed_fastq/SRR25056159.fastq.gz_trimmed.fastq.gz...\n",
      "application/gzip\n"
     ]
    },
    {
     "name": "stderr",
     "output_type": "stream",
     "text": [
      "Started analysis of SRR25056159.fastq.gz_trimmed.fastq.gz\n",
      "Approx 5% complete for SRR25056159.fastq.gz_trimmed.fastq.gz\n",
      "Approx 10% complete for SRR25056159.fastq.gz_trimmed.fastq.gz\n",
      "Approx 15% complete for SRR25056159.fastq.gz_trimmed.fastq.gz\n",
      "Approx 20% complete for SRR25056159.fastq.gz_trimmed.fastq.gz\n",
      "Approx 25% complete for SRR25056159.fastq.gz_trimmed.fastq.gz\n",
      "Approx 30% complete for SRR25056159.fastq.gz_trimmed.fastq.gz\n",
      "Approx 35% complete for SRR25056159.fastq.gz_trimmed.fastq.gz\n",
      "Approx 40% complete for SRR25056159.fastq.gz_trimmed.fastq.gz\n",
      "Approx 45% complete for SRR25056159.fastq.gz_trimmed.fastq.gz\n",
      "Approx 50% complete for SRR25056159.fastq.gz_trimmed.fastq.gz\n",
      "Approx 55% complete for SRR25056159.fastq.gz_trimmed.fastq.gz\n",
      "Approx 60% complete for SRR25056159.fastq.gz_trimmed.fastq.gz\n",
      "Approx 65% complete for SRR25056159.fastq.gz_trimmed.fastq.gz\n",
      "Approx 70% complete for SRR25056159.fastq.gz_trimmed.fastq.gz\n",
      "Approx 75% complete for SRR25056159.fastq.gz_trimmed.fastq.gz\n",
      "Approx 80% complete for SRR25056159.fastq.gz_trimmed.fastq.gz\n",
      "Approx 85% complete for SRR25056159.fastq.gz_trimmed.fastq.gz\n",
      "Approx 90% complete for SRR25056159.fastq.gz_trimmed.fastq.gz\n",
      "Approx 95% complete for SRR25056159.fastq.gz_trimmed.fastq.gz\n"
     ]
    },
    {
     "name": "stdout",
     "output_type": "stream",
     "text": [
      "Analysis complete for SRR25056159.fastq.gz_trimmed.fastq.gz\n",
      "🔬 Analyzing trimmed_fastq/SRR25056160.fastq.gz_trimmed.fastq.gz...\n",
      "application/gzip\n"
     ]
    },
    {
     "name": "stderr",
     "output_type": "stream",
     "text": [
      "Started analysis of SRR25056160.fastq.gz_trimmed.fastq.gz\n",
      "Approx 5% complete for SRR25056160.fastq.gz_trimmed.fastq.gz\n",
      "Approx 10% complete for SRR25056160.fastq.gz_trimmed.fastq.gz\n",
      "Approx 15% complete for SRR25056160.fastq.gz_trimmed.fastq.gz\n",
      "Approx 20% complete for SRR25056160.fastq.gz_trimmed.fastq.gz\n",
      "Approx 25% complete for SRR25056160.fastq.gz_trimmed.fastq.gz\n",
      "Approx 30% complete for SRR25056160.fastq.gz_trimmed.fastq.gz\n",
      "Approx 35% complete for SRR25056160.fastq.gz_trimmed.fastq.gz\n",
      "Approx 40% complete for SRR25056160.fastq.gz_trimmed.fastq.gz\n",
      "Approx 45% complete for SRR25056160.fastq.gz_trimmed.fastq.gz\n",
      "Approx 50% complete for SRR25056160.fastq.gz_trimmed.fastq.gz\n",
      "Approx 55% complete for SRR25056160.fastq.gz_trimmed.fastq.gz\n",
      "Approx 60% complete for SRR25056160.fastq.gz_trimmed.fastq.gz\n",
      "Approx 65% complete for SRR25056160.fastq.gz_trimmed.fastq.gz\n",
      "Approx 70% complete for SRR25056160.fastq.gz_trimmed.fastq.gz\n",
      "Approx 75% complete for SRR25056160.fastq.gz_trimmed.fastq.gz\n",
      "Approx 80% complete for SRR25056160.fastq.gz_trimmed.fastq.gz\n",
      "Approx 85% complete for SRR25056160.fastq.gz_trimmed.fastq.gz\n",
      "Approx 90% complete for SRR25056160.fastq.gz_trimmed.fastq.gz\n",
      "Approx 95% complete for SRR25056160.fastq.gz_trimmed.fastq.gz\n"
     ]
    },
    {
     "name": "stdout",
     "output_type": "stream",
     "text": [
      "Analysis complete for SRR25056160.fastq.gz_trimmed.fastq.gz\n",
      "🔬 Analyzing trimmed_fastq/SRR25056161.fastq.gz_trimmed.fastq.gz...\n",
      "application/gzip\n"
     ]
    },
    {
     "name": "stderr",
     "output_type": "stream",
     "text": [
      "Started analysis of SRR25056161.fastq.gz_trimmed.fastq.gz\n",
      "Approx 5% complete for SRR25056161.fastq.gz_trimmed.fastq.gz\n",
      "Approx 10% complete for SRR25056161.fastq.gz_trimmed.fastq.gz\n",
      "Approx 15% complete for SRR25056161.fastq.gz_trimmed.fastq.gz\n",
      "Approx 20% complete for SRR25056161.fastq.gz_trimmed.fastq.gz\n",
      "Approx 25% complete for SRR25056161.fastq.gz_trimmed.fastq.gz\n",
      "Approx 30% complete for SRR25056161.fastq.gz_trimmed.fastq.gz\n",
      "Approx 35% complete for SRR25056161.fastq.gz_trimmed.fastq.gz\n",
      "Approx 40% complete for SRR25056161.fastq.gz_trimmed.fastq.gz\n",
      "Approx 45% complete for SRR25056161.fastq.gz_trimmed.fastq.gz\n",
      "Approx 50% complete for SRR25056161.fastq.gz_trimmed.fastq.gz\n",
      "Approx 55% complete for SRR25056161.fastq.gz_trimmed.fastq.gz\n",
      "Approx 60% complete for SRR25056161.fastq.gz_trimmed.fastq.gz\n",
      "Approx 65% complete for SRR25056161.fastq.gz_trimmed.fastq.gz\n",
      "Approx 70% complete for SRR25056161.fastq.gz_trimmed.fastq.gz\n",
      "Approx 75% complete for SRR25056161.fastq.gz_trimmed.fastq.gz\n",
      "Approx 80% complete for SRR25056161.fastq.gz_trimmed.fastq.gz\n",
      "Approx 85% complete for SRR25056161.fastq.gz_trimmed.fastq.gz\n",
      "Approx 90% complete for SRR25056161.fastq.gz_trimmed.fastq.gz\n",
      "Approx 95% complete for SRR25056161.fastq.gz_trimmed.fastq.gz\n"
     ]
    },
    {
     "name": "stdout",
     "output_type": "stream",
     "text": [
      "Analysis complete for SRR25056161.fastq.gz_trimmed.fastq.gz\n",
      "🔬 Analyzing trimmed_fastq/SRR25056162.fastq.gz_trimmed.fastq.gz...\n",
      "application/gzip\n"
     ]
    },
    {
     "name": "stderr",
     "output_type": "stream",
     "text": [
      "Started analysis of SRR25056162.fastq.gz_trimmed.fastq.gz\n",
      "Approx 5% complete for SRR25056162.fastq.gz_trimmed.fastq.gz\n",
      "Approx 10% complete for SRR25056162.fastq.gz_trimmed.fastq.gz\n",
      "Approx 15% complete for SRR25056162.fastq.gz_trimmed.fastq.gz\n",
      "Approx 20% complete for SRR25056162.fastq.gz_trimmed.fastq.gz\n",
      "Approx 25% complete for SRR25056162.fastq.gz_trimmed.fastq.gz\n",
      "Approx 30% complete for SRR25056162.fastq.gz_trimmed.fastq.gz\n",
      "Approx 35% complete for SRR25056162.fastq.gz_trimmed.fastq.gz\n",
      "Approx 40% complete for SRR25056162.fastq.gz_trimmed.fastq.gz\n",
      "Approx 45% complete for SRR25056162.fastq.gz_trimmed.fastq.gz\n",
      "Approx 50% complete for SRR25056162.fastq.gz_trimmed.fastq.gz\n",
      "Approx 55% complete for SRR25056162.fastq.gz_trimmed.fastq.gz\n",
      "Approx 60% complete for SRR25056162.fastq.gz_trimmed.fastq.gz\n",
      "Approx 65% complete for SRR25056162.fastq.gz_trimmed.fastq.gz\n",
      "Approx 70% complete for SRR25056162.fastq.gz_trimmed.fastq.gz\n",
      "Approx 75% complete for SRR25056162.fastq.gz_trimmed.fastq.gz\n",
      "Approx 80% complete for SRR25056162.fastq.gz_trimmed.fastq.gz\n",
      "Approx 85% complete for SRR25056162.fastq.gz_trimmed.fastq.gz\n",
      "Approx 90% complete for SRR25056162.fastq.gz_trimmed.fastq.gz\n",
      "Approx 95% complete for SRR25056162.fastq.gz_trimmed.fastq.gz\n"
     ]
    },
    {
     "name": "stdout",
     "output_type": "stream",
     "text": [
      "Analysis complete for SRR25056162.fastq.gz_trimmed.fastq.gz\n"
     ]
    },
    {
     "name": "stderr",
     "output_type": "stream",
     "text": [
      "\n",
      "  \u001b[91m///\u001b[0m \u001b]8;id=693504;https://multiqc.info\u001b\\\u001b[1mMultiQC\u001b[0m\u001b]8;;\u001b\\ 🔍 \u001b[2m| v1.19\u001b[0m\n",
      "\n",
      "\u001b[34m|           multiqc\u001b[0m | \u001b[33mMultiQC Version v1.27 now available!\u001b[0m\n",
      "\u001b[34m|           multiqc\u001b[0m | Search path : /mnt/e/CRPC/fastqc_trimmed\n",
      "\u001b[2K\u001b[34m|\u001b[0m         \u001b[34msearching\u001b[0m | \u001b[90m━━━━━━━━━━━━━━━━━━━━━━━━━━━━━━━━━━━━━━━━\u001b[0m \u001b[35m100%\u001b[0m \u001b[32m20/20\u001b[0m  \u001b[0m0m  \n",
      "\u001b[?25h\u001b[34m|            fastqc\u001b[0m | Found 10 reports\n",
      "\u001b[34m|           multiqc\u001b[0m | Report      : fastqc_trimmed/multiqc_report.html\n",
      "\u001b[34m|           multiqc\u001b[0m | Data        : fastqc_trimmed/multiqc_data\n",
      "\u001b[34m|           multiqc\u001b[0m | MultiQC complete\n"
     ]
    },
    {
     "data": {
      "text/plain": [
       "CompletedProcess(args='multiqc fastqc_trimmed -o fastqc_trimmed', returncode=0)"
      ]
     },
     "execution_count": 9,
     "metadata": {},
     "output_type": "execute_result"
    }
   ],
   "source": [
    "os.makedirs(\"fastqc_trimmed\", exist_ok=True)\n",
    "\n",
    "for file in glob.glob(\"trimmed_fastq/*.fastq.gz\"):\n",
    "    print(f\"🔬 Analyzing {file}...\")\n",
    "    subprocess.run(f\"fastqc -o fastqc_trimmed \\\"{file}\\\"\", shell=True, text=True)\n",
    "\n",
    "subprocess.run(\"multiqc fastqc_trimmed -o fastqc_trimmed\", shell=True, text=True)"
   ]
  },
  {
   "cell_type": "code",
   "execution_count": 10,
   "id": "af2aca97-2080-4c78-a0e8-7d135f7dcc11",
   "metadata": {},
   "outputs": [
    {
     "name": "stderr",
     "output_type": "stream",
     "text": [
      "slamdunk all\n",
      "Running slamDunk map for 10 files (32 threads)\n",
      "..........\n",
      "Running slamDunk sam2bam for 10 files (32 threads)\n",
      "..........\n",
      "Running slamDunk filter for 10 files (32 threads)\n",
      "\n",
      "\n",
      "Running slamDunk SNP for 10 files (16 threads)\n",
      "..........\n",
      "Running slamDunk tcount for 10 files (32 threads)\n",
      "..........Traceback (most recent call last):\n",
      "  File \"/home/nastasista/miniconda3/envs/slamdunk/bin/slamdunk\", line 10, in <module>\n",
      "    sys.exit(run())\n",
      "             ^^^^^\n",
      "  File \"/home/nastasista/miniconda3/envs/slamdunk/lib/python3.12/site-packages/slamdunk/slamdunk.py\", line 520, in run\n",
      "    runAll(args)\n",
      "  File \"/home/nastasista/miniconda3/envs/slamdunk/lib/python3.12/site-packages/slamdunk/slamdunk.py\", line 328, in runAll\n",
      "    results = Parallel(n_jobs=n, verbose=verbose)(delayed(runCount)(tid, dunkbufferIn[tid], referenceFile, args.bed, args.maxLength, args.minQual, args.conversionThreshold, dunkPath, snpDirectory, vcfFile) for tid in range(0, len(samples)))\n",
      "              ^^^^^^^^^^^^^^^^^^^^^^^^^^^^^^^^^^^^^^^^^^^^^^^^^^^^^^^^^^^^^^^^^^^^^^^^^^^^^^^^^^^^^^^^^^^^^^^^^^^^^^^^^^^^^^^^^^^^^^^^^^^^^^^^^^^^^^^^^^^^^^^^^^^^^^^^^^^^^^^^^^^^^^^^^^^^^^^^^^^^^^^^^^^^^^^^^^^^^^^^^^^^^^^^^^^^^^^^^^^^^^^^^^\n",
      "  File \"/home/nastasista/miniconda3/envs/slamdunk/lib/python3.12/site-packages/joblib/parallel.py\", line 2007, in __call__\n",
      "    return output if self.return_generator else list(output)\n",
      "                                                ^^^^^^^^^^^^\n",
      "  File \"/home/nastasista/miniconda3/envs/slamdunk/lib/python3.12/site-packages/joblib/parallel.py\", line 1650, in _get_outputs\n",
      "    yield from self._retrieve()\n",
      "  File \"/home/nastasista/miniconda3/envs/slamdunk/lib/python3.12/site-packages/joblib/parallel.py\", line 1762, in _retrieve\n",
      "    time.sleep(0.01)\n",
      "KeyboardInterrupt\n"
     ]
    },
    {
     "ename": "KeyboardInterrupt",
     "evalue": "",
     "output_type": "error",
     "traceback": [
      "\u001b[0;31m---------------------------------------------------------------------------\u001b[0m",
      "\u001b[0;31mKeyboardInterrupt\u001b[0m                         Traceback (most recent call last)",
      "Cell \u001b[0;32mIn[10], line 1\u001b[0m\n\u001b[0;32m----> 1\u001b[0m \u001b[43msubprocess\u001b[49m\u001b[38;5;241;43m.\u001b[39;49m\u001b[43mrun\u001b[49m\u001b[43m(\u001b[49m\n\u001b[1;32m      2\u001b[0m \u001b[43m    \u001b[49m\u001b[38;5;124;43m\"\u001b[39;49m\u001b[38;5;124;43mslamdunk all \u001b[39;49m\u001b[38;5;124;43m\"\u001b[39;49m\n\u001b[1;32m      3\u001b[0m \u001b[43m    \u001b[49m\u001b[38;5;124;43m\"\u001b[39;49m\u001b[38;5;124;43m-r Homo_sapiens.GRCh38.dna.primary_assembly.fa \u001b[39;49m\u001b[38;5;124;43m\"\u001b[39;49m\n\u001b[1;32m      4\u001b[0m \u001b[43m    \u001b[49m\u001b[38;5;124;43m\"\u001b[39;49m\u001b[38;5;124;43m-b Homo_sapiens.GRCh38.110.fixed.bed \u001b[39;49m\u001b[38;5;124;43m\"\u001b[39;49m\n\u001b[1;32m      5\u001b[0m \u001b[43m    \u001b[49m\u001b[38;5;124;43m\"\u001b[39;49m\u001b[38;5;124;43m-o results_slam/all \u001b[39;49m\u001b[38;5;124;43m\"\u001b[39;49m\n\u001b[1;32m      6\u001b[0m \u001b[43m    \u001b[49m\u001b[38;5;124;43m\"\u001b[39;49m\u001b[38;5;124;43m-t 32 -n 1 -m -rl 100 -e \u001b[39;49m\u001b[38;5;124;43m\"\u001b[39;49m\n\u001b[1;32m      7\u001b[0m \u001b[43m    \u001b[49m\u001b[38;5;124;43m\"\u001b[39;49m\u001b[38;5;124;43m-mq 20 -mi 0.95 -mc 10 -mbq 27 \u001b[39;49m\u001b[38;5;124;43m\"\u001b[39;49m\n\u001b[1;32m      8\u001b[0m \u001b[43m    \u001b[49m\u001b[38;5;124;43m\"\u001b[39;49m\u001b[38;5;124;43m`ls trimmed_fastq/*_trimmed.fastq.gz`\u001b[39;49m\u001b[38;5;124;43m\"\u001b[39;49m\u001b[43m,\u001b[49m\n\u001b[1;32m      9\u001b[0m \u001b[43m    \u001b[49m\u001b[43mshell\u001b[49m\u001b[38;5;241;43m=\u001b[39;49m\u001b[38;5;28;43;01mTrue\u001b[39;49;00m\u001b[43m,\u001b[49m\u001b[43m \u001b[49m\u001b[43mcheck\u001b[49m\u001b[38;5;241;43m=\u001b[39;49m\u001b[38;5;28;43;01mTrue\u001b[39;49;00m\u001b[43m,\u001b[49m\u001b[43m \u001b[49m\u001b[43mexecutable\u001b[49m\u001b[38;5;241;43m=\u001b[39;49m\u001b[38;5;124;43m\"\u001b[39;49m\u001b[38;5;124;43m/bin/bash\u001b[39;49m\u001b[38;5;124;43m\"\u001b[39;49m\n\u001b[1;32m     10\u001b[0m \u001b[43m)\u001b[49m\n",
      "File \u001b[0;32m~/miniconda3/envs/slamdunk/lib/python3.12/subprocess.py:550\u001b[0m, in \u001b[0;36mrun\u001b[0;34m(input, capture_output, timeout, check, *popenargs, **kwargs)\u001b[0m\n\u001b[1;32m    548\u001b[0m \u001b[38;5;28;01mwith\u001b[39;00m Popen(\u001b[38;5;241m*\u001b[39mpopenargs, \u001b[38;5;241m*\u001b[39m\u001b[38;5;241m*\u001b[39mkwargs) \u001b[38;5;28;01mas\u001b[39;00m process:\n\u001b[1;32m    549\u001b[0m     \u001b[38;5;28;01mtry\u001b[39;00m:\n\u001b[0;32m--> 550\u001b[0m         stdout, stderr \u001b[38;5;241m=\u001b[39m \u001b[43mprocess\u001b[49m\u001b[38;5;241;43m.\u001b[39;49m\u001b[43mcommunicate\u001b[49m\u001b[43m(\u001b[49m\u001b[38;5;28;43minput\u001b[39;49m\u001b[43m,\u001b[49m\u001b[43m \u001b[49m\u001b[43mtimeout\u001b[49m\u001b[38;5;241;43m=\u001b[39;49m\u001b[43mtimeout\u001b[49m\u001b[43m)\u001b[49m\n\u001b[1;32m    551\u001b[0m     \u001b[38;5;28;01mexcept\u001b[39;00m TimeoutExpired \u001b[38;5;28;01mas\u001b[39;00m exc:\n\u001b[1;32m    552\u001b[0m         process\u001b[38;5;241m.\u001b[39mkill()\n",
      "File \u001b[0;32m~/miniconda3/envs/slamdunk/lib/python3.12/subprocess.py:1201\u001b[0m, in \u001b[0;36mPopen.communicate\u001b[0;34m(self, input, timeout)\u001b[0m\n\u001b[1;32m   1199\u001b[0m         stderr \u001b[38;5;241m=\u001b[39m \u001b[38;5;28mself\u001b[39m\u001b[38;5;241m.\u001b[39mstderr\u001b[38;5;241m.\u001b[39mread()\n\u001b[1;32m   1200\u001b[0m         \u001b[38;5;28mself\u001b[39m\u001b[38;5;241m.\u001b[39mstderr\u001b[38;5;241m.\u001b[39mclose()\n\u001b[0;32m-> 1201\u001b[0m     \u001b[38;5;28;43mself\u001b[39;49m\u001b[38;5;241;43m.\u001b[39;49m\u001b[43mwait\u001b[49m\u001b[43m(\u001b[49m\u001b[43m)\u001b[49m\n\u001b[1;32m   1202\u001b[0m \u001b[38;5;28;01melse\u001b[39;00m:\n\u001b[1;32m   1203\u001b[0m     \u001b[38;5;28;01mif\u001b[39;00m timeout \u001b[38;5;129;01mis\u001b[39;00m \u001b[38;5;129;01mnot\u001b[39;00m \u001b[38;5;28;01mNone\u001b[39;00m:\n",
      "File \u001b[0;32m~/miniconda3/envs/slamdunk/lib/python3.12/subprocess.py:1264\u001b[0m, in \u001b[0;36mPopen.wait\u001b[0;34m(self, timeout)\u001b[0m\n\u001b[1;32m   1262\u001b[0m     endtime \u001b[38;5;241m=\u001b[39m _time() \u001b[38;5;241m+\u001b[39m timeout\n\u001b[1;32m   1263\u001b[0m \u001b[38;5;28;01mtry\u001b[39;00m:\n\u001b[0;32m-> 1264\u001b[0m     \u001b[38;5;28;01mreturn\u001b[39;00m \u001b[38;5;28;43mself\u001b[39;49m\u001b[38;5;241;43m.\u001b[39;49m\u001b[43m_wait\u001b[49m\u001b[43m(\u001b[49m\u001b[43mtimeout\u001b[49m\u001b[38;5;241;43m=\u001b[39;49m\u001b[43mtimeout\u001b[49m\u001b[43m)\u001b[49m\n\u001b[1;32m   1265\u001b[0m \u001b[38;5;28;01mexcept\u001b[39;00m \u001b[38;5;167;01mKeyboardInterrupt\u001b[39;00m:\n\u001b[1;32m   1266\u001b[0m     \u001b[38;5;66;03m# https://bugs.python.org/issue25942\u001b[39;00m\n\u001b[1;32m   1267\u001b[0m     \u001b[38;5;66;03m# The first keyboard interrupt waits briefly for the child to\u001b[39;00m\n\u001b[1;32m   1268\u001b[0m     \u001b[38;5;66;03m# exit under the common assumption that it also received the ^C\u001b[39;00m\n\u001b[1;32m   1269\u001b[0m     \u001b[38;5;66;03m# generated SIGINT and will exit rapidly.\u001b[39;00m\n\u001b[1;32m   1270\u001b[0m     \u001b[38;5;28;01mif\u001b[39;00m timeout \u001b[38;5;129;01mis\u001b[39;00m \u001b[38;5;129;01mnot\u001b[39;00m \u001b[38;5;28;01mNone\u001b[39;00m:\n",
      "File \u001b[0;32m~/miniconda3/envs/slamdunk/lib/python3.12/subprocess.py:2053\u001b[0m, in \u001b[0;36mPopen._wait\u001b[0;34m(self, timeout)\u001b[0m\n\u001b[1;32m   2051\u001b[0m \u001b[38;5;28;01mif\u001b[39;00m \u001b[38;5;28mself\u001b[39m\u001b[38;5;241m.\u001b[39mreturncode \u001b[38;5;129;01mis\u001b[39;00m \u001b[38;5;129;01mnot\u001b[39;00m \u001b[38;5;28;01mNone\u001b[39;00m:\n\u001b[1;32m   2052\u001b[0m     \u001b[38;5;28;01mbreak\u001b[39;00m  \u001b[38;5;66;03m# Another thread waited.\u001b[39;00m\n\u001b[0;32m-> 2053\u001b[0m (pid, sts) \u001b[38;5;241m=\u001b[39m \u001b[38;5;28;43mself\u001b[39;49m\u001b[38;5;241;43m.\u001b[39;49m\u001b[43m_try_wait\u001b[49m\u001b[43m(\u001b[49m\u001b[38;5;241;43m0\u001b[39;49m\u001b[43m)\u001b[49m\n\u001b[1;32m   2054\u001b[0m \u001b[38;5;66;03m# Check the pid and loop as waitpid has been known to\u001b[39;00m\n\u001b[1;32m   2055\u001b[0m \u001b[38;5;66;03m# return 0 even without WNOHANG in odd situations.\u001b[39;00m\n\u001b[1;32m   2056\u001b[0m \u001b[38;5;66;03m# http://bugs.python.org/issue14396.\u001b[39;00m\n\u001b[1;32m   2057\u001b[0m \u001b[38;5;28;01mif\u001b[39;00m pid \u001b[38;5;241m==\u001b[39m \u001b[38;5;28mself\u001b[39m\u001b[38;5;241m.\u001b[39mpid:\n",
      "File \u001b[0;32m~/miniconda3/envs/slamdunk/lib/python3.12/subprocess.py:2011\u001b[0m, in \u001b[0;36mPopen._try_wait\u001b[0;34m(self, wait_flags)\u001b[0m\n\u001b[1;32m   2009\u001b[0m \u001b[38;5;250m\u001b[39m\u001b[38;5;124;03m\"\"\"All callers to this function MUST hold self._waitpid_lock.\"\"\"\u001b[39;00m\n\u001b[1;32m   2010\u001b[0m \u001b[38;5;28;01mtry\u001b[39;00m:\n\u001b[0;32m-> 2011\u001b[0m     (pid, sts) \u001b[38;5;241m=\u001b[39m \u001b[43mos\u001b[49m\u001b[38;5;241;43m.\u001b[39;49m\u001b[43mwaitpid\u001b[49m\u001b[43m(\u001b[49m\u001b[38;5;28;43mself\u001b[39;49m\u001b[38;5;241;43m.\u001b[39;49m\u001b[43mpid\u001b[49m\u001b[43m,\u001b[49m\u001b[43m \u001b[49m\u001b[43mwait_flags\u001b[49m\u001b[43m)\u001b[49m\n\u001b[1;32m   2012\u001b[0m \u001b[38;5;28;01mexcept\u001b[39;00m \u001b[38;5;167;01mChildProcessError\u001b[39;00m:\n\u001b[1;32m   2013\u001b[0m     \u001b[38;5;66;03m# This happens if SIGCLD is set to be ignored or waiting\u001b[39;00m\n\u001b[1;32m   2014\u001b[0m     \u001b[38;5;66;03m# for child processes has otherwise been disabled for our\u001b[39;00m\n\u001b[1;32m   2015\u001b[0m     \u001b[38;5;66;03m# process.  This child is dead, we can't get the status.\u001b[39;00m\n\u001b[1;32m   2016\u001b[0m     pid \u001b[38;5;241m=\u001b[39m \u001b[38;5;28mself\u001b[39m\u001b[38;5;241m.\u001b[39mpid\n",
      "\u001b[0;31mKeyboardInterrupt\u001b[0m: "
     ]
    }
   ],
   "source": [
    "subprocess.run(\n",
    "    \"slamdunk all \"\n",
    "    \"-r Homo_sapiens.GRCh38.dna.primary_assembly.fa \"\n",
    "    \"-b Homo_sapiens.GRCh38.110.fixed.bed \"\n",
    "    \"-o results_slam/all \"\n",
    "    \"-t 32 -n 1 -m -rl 100 -e \"\n",
    "    \"-mq 20 -mi 0.95 -mc 10 -mbq 27 \"\n",
    "    \"`ls trimmed_fastq/*_trimmed.fastq.gz`\",\n",
    "    shell=True, check=True, executable=\"/bin/bash\"\n",
    ")"
   ]
  },
  {
   "cell_type": "code",
   "execution_count": null,
   "id": "e13fdb39-a804-4ae7-8b96-b4eea46f1414",
   "metadata": {},
   "outputs": [],
   "source": []
  }
 ],
 "metadata": {
  "kernelspec": {
   "display_name": "Python (slamdunk)",
   "language": "python",
   "name": "slamdunk"
  },
  "language_info": {
   "codemirror_mode": {
    "name": "ipython",
    "version": 3
   },
   "file_extension": ".py",
   "mimetype": "text/x-python",
   "name": "python",
   "nbconvert_exporter": "python",
   "pygments_lexer": "ipython3",
   "version": "3.12.8"
  }
 },
 "nbformat": 4,
 "nbformat_minor": 5
}
