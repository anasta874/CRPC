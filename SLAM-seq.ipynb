{
 "cells": [
  {
   "cell_type": "code",
   "execution_count": 7,
   "id": "0e45f245-9ba8-4e5a-ad78-8d943a544856",
   "metadata": {},
   "outputs": [],
   "source": [
    "import os\n",
    "import subprocess\n",
    "import glob\n",
    "from IPython.display import display"
   ]
  },
  {
   "cell_type": "code",
   "execution_count": 2,
   "id": "7bd90537-b804-4552-bef7-6d86ef4764c3",
   "metadata": {},
   "outputs": [],
   "source": [
    "data_dir = \"/mnt/e/CRPC/data/\"\n",
    "fastqc_output = \"/mnt/e/CRPC/fastqc_results/\""
   ]
  },
  {
   "cell_type": "code",
   "execution_count": 3,
   "id": "84b09024-e669-421d-b63b-6185d284fa88",
   "metadata": {},
   "outputs": [
    {
     "name": "stdout",
     "output_type": "stream",
     "text": [
      "🔍 Files found: ['/mnt/e/CRPC/data/SRR25056153.fastq.gz', '/mnt/e/CRPC/data/SRR25056154.fastq.gz', '/mnt/e/CRPC/data/SRR25056155.fastq.gz', '/mnt/e/CRPC/data/SRR25056156.fastq.gz', '/mnt/e/CRPC/data/SRR25056157.fastq.gz', '/mnt/e/CRPC/data/SRR25056158.fastq.gz', '/mnt/e/CRPC/data/SRR25056159.fastq.gz', '/mnt/e/CRPC/data/SRR25056160.fastq.gz', '/mnt/e/CRPC/data/SRR25056161.fastq.gz', '/mnt/e/CRPC/data/SRR25056162.fastq.gz']\n"
     ]
    }
   ],
   "source": [
    "# List of FASTQ files\n",
    "data = glob.glob(os.path.join(data_dir, \"*.fastq.gz\"))\n",
    "print(\"🔍 Files found:\", data)"
   ]
  },
  {
   "cell_type": "code",
   "execution_count": null,
   "id": "8e557c2e-e3fc-496a-9683-873d378bf01f",
   "metadata": {
    "scrolled": true
   },
   "outputs": [],
   "source": [
    "# Step 1: FastQC\n",
    "for file in data:\n",
    "    print(f\"🔍 Analyzing  {file}...\")\n",
    "    subprocess.run(f\"fastqc -o \\\"{fastqc_output}\\\" \\\"{file}\\\"\", shell=True, text=True)"
   ]
  },
  {
   "cell_type": "code",
   "execution_count": 10,
   "id": "485cb506-24cb-47af-b03c-c69965af48e6",
   "metadata": {
    "scrolled": true
   },
   "outputs": [
    {
     "name": "stderr",
     "output_type": "stream",
     "text": [
      "\n",
      "  \u001b[91m///\u001b[0m \u001b]8;id=794087;https://multiqc.info\u001b\\\u001b[1mMultiQC\u001b[0m\u001b]8;;\u001b\\ 🔍 \u001b[2m| v1.19\u001b[0m\n",
      "\n",
      "\u001b[34m|           multiqc\u001b[0m | \u001b[33mMultiQC Version v1.27 now available!\u001b[0m\n",
      "\u001b[34m|           multiqc\u001b[0m | Search path : /mnt/e/CRPC/fastqc_results\n",
      "\u001b[2K\u001b[34m|\u001b[0m         \u001b[34msearching\u001b[0m | \u001b[90m━━━━━━━━━━━━━━━━━━━━━━━━━━━━━━━━━━━━━━━━\u001b[0m \u001b[35m100%\u001b[0m \u001b[32m20/20\u001b[0m  [2m/mnt/e/CRPC/fastqc_results/SRR25056162_fastqc.zip\u001b[0m/SRR25056159_fastqc.zip\u001b[0m\n",
      "\u001b[?25h\u001b[34m|            fastqc\u001b[0m | Found 10 reports\n",
      "\u001b[34m|           multiqc\u001b[0m | Report      : fastqc_results/multiqc_report.html\n",
      "\u001b[34m|           multiqc\u001b[0m | Data        : fastqc_results/multiqc_data\n",
      "\u001b[34m|           multiqc\u001b[0m | MultiQC complete\n"
     ]
    },
    {
     "data": {
      "text/plain": [
       "CompletedProcess(args='multiqc /mnt/e/CRPC/fastqc_results/ -o /mnt/e/CRPC/fastqc_results/', returncode=0)"
      ]
     },
     "execution_count": 10,
     "metadata": {},
     "output_type": "execute_result"
    }
   ],
   "source": [
    "subprocess.run(f\"multiqc {fastqc_output} -o {fastqc_output}\", shell=True, text=True)"
   ]
  },
  {
   "cell_type": "code",
   "execution_count": 7,
   "id": "3af7353c-9069-4f20-893a-3bb97f165aad",
   "metadata": {
    "scrolled": true
   },
   "outputs": [
    {
     "name": "stdout",
     "output_type": "stream",
     "text": [
      "Running Trimmomatic...\n",
      "✂️ Processing: /mnt/e/CRPC/data/SRR25056160.fastq.gz\n"
     ]
    },
    {
     "name": "stderr",
     "output_type": "stream",
     "text": [
      "TrimmomaticSE: Started with arguments:\n",
      " -phred33 /mnt/e/CRPC/data/SRR25056160.fastq.gz trimmed_fastq/SRR25056160.fastq.gz_trimmed.fastq.gz ILLUMINACLIP:adapters.fa:2:30:10:2:True SLIDINGWINDOW:4:20\n",
      "Automatically using 1 threads\n",
      "Using Long Clipping Sequence: 'AGATCGGAAGAGCACACGTCTGAACTCCAGTCAC'\n",
      "Using Long Clipping Sequence: 'AAAAAAAAAAAAAAAAAAAAAAAAAAAAAAAA'\n",
      "Using Long Clipping Sequence: 'TTTTTTTTTTTTTTTTTTTTTTTTTTTTTTTT'\n",
      "Using Long Clipping Sequence: 'AGATCGGAAGAGCGTCGTGTAGGGAAAGAGTGT'\n",
      "ILLUMINACLIP: Using 0 prefix pairs, 4 forward/reverse sequences, 0 forward only sequences, 0 reverse only sequences\n",
      "Input Reads: 81374548 Surviving: 80023505 (98.34%) Dropped: 1351043 (1.66%)\n",
      "TrimmomaticSE: Completed successfully\n",
      "TrimmomaticSE: Started with arguments:\n",
      " -phred33 /mnt/e/CRPC/data/SRR25056161.fastq.gz trimmed_fastq/SRR25056161.fastq.gz_trimmed.fastq.gz ILLUMINACLIP:adapters.fa:2:30:10:2:True SLIDINGWINDOW:4:20\n",
      "Automatically using 1 threads\n",
      "Using Long Clipping Sequence: 'AGATCGGAAGAGCACACGTCTGAACTCCAGTCAC'\n",
      "Using Long Clipping Sequence: 'AAAAAAAAAAAAAAAAAAAAAAAAAAAAAAAA'\n",
      "Using Long Clipping Sequence: 'TTTTTTTTTTTTTTTTTTTTTTTTTTTTTTTT'\n",
      "Using Long Clipping Sequence: 'AGATCGGAAGAGCGTCGTGTAGGGAAAGAGTGT'\n",
      "ILLUMINACLIP: Using 0 prefix pairs, 4 forward/reverse sequences, 0 forward only sequences, 0 reverse only sequences\n"
     ]
    },
    {
     "name": "stdout",
     "output_type": "stream",
     "text": [
      "✂️ Processing: /mnt/e/CRPC/data/SRR25056161.fastq.gz\n"
     ]
    },
    {
     "name": "stderr",
     "output_type": "stream",
     "text": [
      "Input Reads: 66149895 Surviving: 65518827 (99.05%) Dropped: 631068 (0.95%)\n",
      "TrimmomaticSE: Completed successfully\n",
      "TrimmomaticSE: Started with arguments:\n",
      " -phred33 /mnt/e/CRPC/data/SRR25056162.fastq.gz trimmed_fastq/SRR25056162.fastq.gz_trimmed.fastq.gz ILLUMINACLIP:adapters.fa:2:30:10:2:True SLIDINGWINDOW:4:20\n",
      "Automatically using 1 threads\n",
      "Using Long Clipping Sequence: 'AGATCGGAAGAGCACACGTCTGAACTCCAGTCAC'\n",
      "Using Long Clipping Sequence: 'AAAAAAAAAAAAAAAAAAAAAAAAAAAAAAAA'\n",
      "Using Long Clipping Sequence: 'TTTTTTTTTTTTTTTTTTTTTTTTTTTTTTTT'\n",
      "Using Long Clipping Sequence: 'AGATCGGAAGAGCGTCGTGTAGGGAAAGAGTGT'\n",
      "ILLUMINACLIP: Using 0 prefix pairs, 4 forward/reverse sequences, 0 forward only sequences, 0 reverse only sequences\n"
     ]
    },
    {
     "name": "stdout",
     "output_type": "stream",
     "text": [
      "✂️ Processing: /mnt/e/CRPC/data/SRR25056162.fastq.gz\n"
     ]
    },
    {
     "name": "stderr",
     "output_type": "stream",
     "text": [
      "Input Reads: 84507819 Surviving: 82924567 (98.13%) Dropped: 1583252 (1.87%)\n",
      "TrimmomaticSE: Completed successfully\n"
     ]
    }
   ],
   "source": [
    "# Step 2: Cleaning\n",
    "output_dir = \"trimmed_fastq\"\n",
    "os.makedirs(output_dir, exist_ok=True) \n",
    "\n",
    "adapter_file = \"adapters.fa\"\n",
    "\n",
    "trimmomatic_params = {\n",
    "    \"phred\": \"-phred33\",\n",
    "    \"adapters\": f\"ILLUMINACLIP:{adapter_file}:2:30:10:2:True\",\n",
    "    \"sliding_window\": \"SLIDINGWINDOW:4:20\"\n",
    "}\n",
    "\n",
    "print(\"Running Trimmomatic...\")\n",
    "for file in fastq_files:\n",
    "    base = os.path.basename(file).replace(\"_1.fastq.gz\", \"\")\n",
    "    output_file = os.path.join(output_dir, f\"{base}_trimmed.fastq.gz\")\n",
    "    \n",
    "    trimmomatic_cmd = (\n",
    "        f\"trimmomatic SE {trimmomatic_params['phred']} {file} {output_file} \"\n",
    "        f\"{trimmomatic_params['adapters']} {trimmomatic_params['sliding_window']}\"\n",
    "    )\n",
    "    \n",
    "    print(f\"✂️ Processing: {file}\")\n",
    "    subprocess.run(trimmomatic_cmd, shell=True, text=True, check=True)"
   ]
  },
  {
   "cell_type": "code",
   "execution_count": 9,
   "id": "1d148121-2257-4420-a4e6-d89fb77c6056",
   "metadata": {
    "scrolled": true
   },
   "outputs": [
    {
     "name": "stdout",
     "output_type": "stream",
     "text": [
      "🔬 Analyzing trimmed_fastq/SRR25056153.fastq.gz_trimmed.fastq.gz...\n",
      "application/gzip\n"
     ]
    },
    {
     "name": "stderr",
     "output_type": "stream",
     "text": [
      "Started analysis of SRR25056153.fastq.gz_trimmed.fastq.gz\n",
      "Approx 5% complete for SRR25056153.fastq.gz_trimmed.fastq.gz\n",
      "Approx 10% complete for SRR25056153.fastq.gz_trimmed.fastq.gz\n",
      "Approx 15% complete for SRR25056153.fastq.gz_trimmed.fastq.gz\n",
      "Approx 20% complete for SRR25056153.fastq.gz_trimmed.fastq.gz\n",
      "Approx 25% complete for SRR25056153.fastq.gz_trimmed.fastq.gz\n",
      "Approx 30% complete for SRR25056153.fastq.gz_trimmed.fastq.gz\n",
      "Approx 35% complete for SRR25056153.fastq.gz_trimmed.fastq.gz\n",
      "Approx 40% complete for SRR25056153.fastq.gz_trimmed.fastq.gz\n",
      "Approx 45% complete for SRR25056153.fastq.gz_trimmed.fastq.gz\n",
      "Approx 50% complete for SRR25056153.fastq.gz_trimmed.fastq.gz\n",
      "Approx 55% complete for SRR25056153.fastq.gz_trimmed.fastq.gz\n",
      "Approx 60% complete for SRR25056153.fastq.gz_trimmed.fastq.gz\n",
      "Approx 65% complete for SRR25056153.fastq.gz_trimmed.fastq.gz\n",
      "Approx 70% complete for SRR25056153.fastq.gz_trimmed.fastq.gz\n",
      "Approx 75% complete for SRR25056153.fastq.gz_trimmed.fastq.gz\n",
      "Approx 80% complete for SRR25056153.fastq.gz_trimmed.fastq.gz\n",
      "Approx 85% complete for SRR25056153.fastq.gz_trimmed.fastq.gz\n",
      "Approx 90% complete for SRR25056153.fastq.gz_trimmed.fastq.gz\n",
      "Approx 95% complete for SRR25056153.fastq.gz_trimmed.fastq.gz\n"
     ]
    },
    {
     "name": "stdout",
     "output_type": "stream",
     "text": [
      "Analysis complete for SRR25056153.fastq.gz_trimmed.fastq.gz\n",
      "🔬 Analyzing trimmed_fastq/SRR25056154.fastq.gz_trimmed.fastq.gz...\n",
      "application/gzip\n"
     ]
    },
    {
     "name": "stderr",
     "output_type": "stream",
     "text": [
      "Started analysis of SRR25056154.fastq.gz_trimmed.fastq.gz\n",
      "Approx 5% complete for SRR25056154.fastq.gz_trimmed.fastq.gz\n",
      "Approx 10% complete for SRR25056154.fastq.gz_trimmed.fastq.gz\n",
      "Approx 15% complete for SRR25056154.fastq.gz_trimmed.fastq.gz\n",
      "Approx 20% complete for SRR25056154.fastq.gz_trimmed.fastq.gz\n",
      "Approx 25% complete for SRR25056154.fastq.gz_trimmed.fastq.gz\n",
      "Approx 30% complete for SRR25056154.fastq.gz_trimmed.fastq.gz\n",
      "Approx 35% complete for SRR25056154.fastq.gz_trimmed.fastq.gz\n",
      "Approx 40% complete for SRR25056154.fastq.gz_trimmed.fastq.gz\n",
      "Approx 45% complete for SRR25056154.fastq.gz_trimmed.fastq.gz\n",
      "Approx 50% complete for SRR25056154.fastq.gz_trimmed.fastq.gz\n",
      "Approx 55% complete for SRR25056154.fastq.gz_trimmed.fastq.gz\n",
      "Approx 60% complete for SRR25056154.fastq.gz_trimmed.fastq.gz\n",
      "Approx 65% complete for SRR25056154.fastq.gz_trimmed.fastq.gz\n",
      "Approx 70% complete for SRR25056154.fastq.gz_trimmed.fastq.gz\n",
      "Approx 75% complete for SRR25056154.fastq.gz_trimmed.fastq.gz\n",
      "Approx 80% complete for SRR25056154.fastq.gz_trimmed.fastq.gz\n",
      "Approx 85% complete for SRR25056154.fastq.gz_trimmed.fastq.gz\n",
      "Approx 90% complete for SRR25056154.fastq.gz_trimmed.fastq.gz\n",
      "Approx 95% complete for SRR25056154.fastq.gz_trimmed.fastq.gz\n"
     ]
    },
    {
     "name": "stdout",
     "output_type": "stream",
     "text": [
      "Analysis complete for SRR25056154.fastq.gz_trimmed.fastq.gz\n",
      "🔬 Analyzing trimmed_fastq/SRR25056155.fastq.gz_trimmed.fastq.gz...\n",
      "application/gzip\n"
     ]
    },
    {
     "name": "stderr",
     "output_type": "stream",
     "text": [
      "Started analysis of SRR25056155.fastq.gz_trimmed.fastq.gz\n",
      "Approx 5% complete for SRR25056155.fastq.gz_trimmed.fastq.gz\n",
      "Approx 10% complete for SRR25056155.fastq.gz_trimmed.fastq.gz\n",
      "Approx 15% complete for SRR25056155.fastq.gz_trimmed.fastq.gz\n",
      "Approx 20% complete for SRR25056155.fastq.gz_trimmed.fastq.gz\n",
      "Approx 25% complete for SRR25056155.fastq.gz_trimmed.fastq.gz\n",
      "Approx 30% complete for SRR25056155.fastq.gz_trimmed.fastq.gz\n",
      "Approx 35% complete for SRR25056155.fastq.gz_trimmed.fastq.gz\n",
      "Approx 40% complete for SRR25056155.fastq.gz_trimmed.fastq.gz\n",
      "Approx 45% complete for SRR25056155.fastq.gz_trimmed.fastq.gz\n",
      "Approx 50% complete for SRR25056155.fastq.gz_trimmed.fastq.gz\n",
      "Approx 55% complete for SRR25056155.fastq.gz_trimmed.fastq.gz\n",
      "Approx 60% complete for SRR25056155.fastq.gz_trimmed.fastq.gz\n",
      "Approx 65% complete for SRR25056155.fastq.gz_trimmed.fastq.gz\n",
      "Approx 70% complete for SRR25056155.fastq.gz_trimmed.fastq.gz\n",
      "Approx 75% complete for SRR25056155.fastq.gz_trimmed.fastq.gz\n",
      "Approx 80% complete for SRR25056155.fastq.gz_trimmed.fastq.gz\n",
      "Approx 85% complete for SRR25056155.fastq.gz_trimmed.fastq.gz\n",
      "Approx 90% complete for SRR25056155.fastq.gz_trimmed.fastq.gz\n",
      "Approx 95% complete for SRR25056155.fastq.gz_trimmed.fastq.gz\n"
     ]
    },
    {
     "name": "stdout",
     "output_type": "stream",
     "text": [
      "Analysis complete for SRR25056155.fastq.gz_trimmed.fastq.gz\n",
      "🔬 Analyzing trimmed_fastq/SRR25056156.fastq.gz_trimmed.fastq.gz...\n",
      "application/gzip\n"
     ]
    },
    {
     "name": "stderr",
     "output_type": "stream",
     "text": [
      "Started analysis of SRR25056156.fastq.gz_trimmed.fastq.gz\n",
      "Approx 5% complete for SRR25056156.fastq.gz_trimmed.fastq.gz\n",
      "Approx 10% complete for SRR25056156.fastq.gz_trimmed.fastq.gz\n",
      "Approx 15% complete for SRR25056156.fastq.gz_trimmed.fastq.gz\n",
      "Approx 20% complete for SRR25056156.fastq.gz_trimmed.fastq.gz\n",
      "Approx 25% complete for SRR25056156.fastq.gz_trimmed.fastq.gz\n",
      "Approx 30% complete for SRR25056156.fastq.gz_trimmed.fastq.gz\n",
      "Approx 35% complete for SRR25056156.fastq.gz_trimmed.fastq.gz\n",
      "Approx 40% complete for SRR25056156.fastq.gz_trimmed.fastq.gz\n",
      "Approx 45% complete for SRR25056156.fastq.gz_trimmed.fastq.gz\n",
      "Approx 50% complete for SRR25056156.fastq.gz_trimmed.fastq.gz\n",
      "Approx 55% complete for SRR25056156.fastq.gz_trimmed.fastq.gz\n",
      "Approx 60% complete for SRR25056156.fastq.gz_trimmed.fastq.gz\n",
      "Approx 65% complete for SRR25056156.fastq.gz_trimmed.fastq.gz\n",
      "Approx 70% complete for SRR25056156.fastq.gz_trimmed.fastq.gz\n",
      "Approx 75% complete for SRR25056156.fastq.gz_trimmed.fastq.gz\n",
      "Approx 80% complete for SRR25056156.fastq.gz_trimmed.fastq.gz\n",
      "Approx 85% complete for SRR25056156.fastq.gz_trimmed.fastq.gz\n",
      "Approx 90% complete for SRR25056156.fastq.gz_trimmed.fastq.gz\n",
      "Approx 95% complete for SRR25056156.fastq.gz_trimmed.fastq.gz\n"
     ]
    },
    {
     "name": "stdout",
     "output_type": "stream",
     "text": [
      "Analysis complete for SRR25056156.fastq.gz_trimmed.fastq.gz\n",
      "🔬 Analyzing trimmed_fastq/SRR25056157.fastq.gz_trimmed.fastq.gz...\n",
      "application/gzip\n"
     ]
    },
    {
     "name": "stderr",
     "output_type": "stream",
     "text": [
      "Started analysis of SRR25056157.fastq.gz_trimmed.fastq.gz\n",
      "Approx 5% complete for SRR25056157.fastq.gz_trimmed.fastq.gz\n",
      "Approx 10% complete for SRR25056157.fastq.gz_trimmed.fastq.gz\n",
      "Approx 15% complete for SRR25056157.fastq.gz_trimmed.fastq.gz\n",
      "Approx 20% complete for SRR25056157.fastq.gz_trimmed.fastq.gz\n",
      "Approx 25% complete for SRR25056157.fastq.gz_trimmed.fastq.gz\n",
      "Approx 30% complete for SRR25056157.fastq.gz_trimmed.fastq.gz\n",
      "Approx 35% complete for SRR25056157.fastq.gz_trimmed.fastq.gz\n",
      "Approx 40% complete for SRR25056157.fastq.gz_trimmed.fastq.gz\n",
      "Approx 45% complete for SRR25056157.fastq.gz_trimmed.fastq.gz\n",
      "Approx 50% complete for SRR25056157.fastq.gz_trimmed.fastq.gz\n",
      "Approx 55% complete for SRR25056157.fastq.gz_trimmed.fastq.gz\n",
      "Approx 60% complete for SRR25056157.fastq.gz_trimmed.fastq.gz\n",
      "Approx 65% complete for SRR25056157.fastq.gz_trimmed.fastq.gz\n",
      "Approx 70% complete for SRR25056157.fastq.gz_trimmed.fastq.gz\n",
      "Approx 75% complete for SRR25056157.fastq.gz_trimmed.fastq.gz\n",
      "Approx 80% complete for SRR25056157.fastq.gz_trimmed.fastq.gz\n",
      "Approx 85% complete for SRR25056157.fastq.gz_trimmed.fastq.gz\n",
      "Approx 90% complete for SRR25056157.fastq.gz_trimmed.fastq.gz\n",
      "Approx 95% complete for SRR25056157.fastq.gz_trimmed.fastq.gz\n"
     ]
    },
    {
     "name": "stdout",
     "output_type": "stream",
     "text": [
      "Analysis complete for SRR25056157.fastq.gz_trimmed.fastq.gz\n",
      "🔬 Analyzing trimmed_fastq/SRR25056158.fastq.gz_trimmed.fastq.gz...\n",
      "application/gzip\n"
     ]
    },
    {
     "name": "stderr",
     "output_type": "stream",
     "text": [
      "Started analysis of SRR25056158.fastq.gz_trimmed.fastq.gz\n",
      "Approx 5% complete for SRR25056158.fastq.gz_trimmed.fastq.gz\n",
      "Approx 10% complete for SRR25056158.fastq.gz_trimmed.fastq.gz\n",
      "Approx 15% complete for SRR25056158.fastq.gz_trimmed.fastq.gz\n",
      "Approx 20% complete for SRR25056158.fastq.gz_trimmed.fastq.gz\n",
      "Approx 25% complete for SRR25056158.fastq.gz_trimmed.fastq.gz\n",
      "Approx 30% complete for SRR25056158.fastq.gz_trimmed.fastq.gz\n",
      "Approx 35% complete for SRR25056158.fastq.gz_trimmed.fastq.gz\n",
      "Approx 40% complete for SRR25056158.fastq.gz_trimmed.fastq.gz\n",
      "Approx 45% complete for SRR25056158.fastq.gz_trimmed.fastq.gz\n",
      "Approx 50% complete for SRR25056158.fastq.gz_trimmed.fastq.gz\n",
      "Approx 55% complete for SRR25056158.fastq.gz_trimmed.fastq.gz\n",
      "Approx 60% complete for SRR25056158.fastq.gz_trimmed.fastq.gz\n",
      "Approx 65% complete for SRR25056158.fastq.gz_trimmed.fastq.gz\n",
      "Approx 70% complete for SRR25056158.fastq.gz_trimmed.fastq.gz\n",
      "Approx 75% complete for SRR25056158.fastq.gz_trimmed.fastq.gz\n",
      "Approx 80% complete for SRR25056158.fastq.gz_trimmed.fastq.gz\n",
      "Approx 85% complete for SRR25056158.fastq.gz_trimmed.fastq.gz\n",
      "Approx 90% complete for SRR25056158.fastq.gz_trimmed.fastq.gz\n",
      "Approx 95% complete for SRR25056158.fastq.gz_trimmed.fastq.gz\n"
     ]
    },
    {
     "name": "stdout",
     "output_type": "stream",
     "text": [
      "Analysis complete for SRR25056158.fastq.gz_trimmed.fastq.gz\n",
      "🔬 Analyzing trimmed_fastq/SRR25056159.fastq.gz_trimmed.fastq.gz...\n",
      "application/gzip\n"
     ]
    },
    {
     "name": "stderr",
     "output_type": "stream",
     "text": [
      "Started analysis of SRR25056159.fastq.gz_trimmed.fastq.gz\n",
      "Approx 5% complete for SRR25056159.fastq.gz_trimmed.fastq.gz\n",
      "Approx 10% complete for SRR25056159.fastq.gz_trimmed.fastq.gz\n",
      "Approx 15% complete for SRR25056159.fastq.gz_trimmed.fastq.gz\n",
      "Approx 20% complete for SRR25056159.fastq.gz_trimmed.fastq.gz\n",
      "Approx 25% complete for SRR25056159.fastq.gz_trimmed.fastq.gz\n",
      "Approx 30% complete for SRR25056159.fastq.gz_trimmed.fastq.gz\n",
      "Approx 35% complete for SRR25056159.fastq.gz_trimmed.fastq.gz\n",
      "Approx 40% complete for SRR25056159.fastq.gz_trimmed.fastq.gz\n",
      "Approx 45% complete for SRR25056159.fastq.gz_trimmed.fastq.gz\n",
      "Approx 50% complete for SRR25056159.fastq.gz_trimmed.fastq.gz\n",
      "Approx 55% complete for SRR25056159.fastq.gz_trimmed.fastq.gz\n",
      "Approx 60% complete for SRR25056159.fastq.gz_trimmed.fastq.gz\n",
      "Approx 65% complete for SRR25056159.fastq.gz_trimmed.fastq.gz\n",
      "Approx 70% complete for SRR25056159.fastq.gz_trimmed.fastq.gz\n",
      "Approx 75% complete for SRR25056159.fastq.gz_trimmed.fastq.gz\n",
      "Approx 80% complete for SRR25056159.fastq.gz_trimmed.fastq.gz\n",
      "Approx 85% complete for SRR25056159.fastq.gz_trimmed.fastq.gz\n",
      "Approx 90% complete for SRR25056159.fastq.gz_trimmed.fastq.gz\n",
      "Approx 95% complete for SRR25056159.fastq.gz_trimmed.fastq.gz\n"
     ]
    },
    {
     "name": "stdout",
     "output_type": "stream",
     "text": [
      "Analysis complete for SRR25056159.fastq.gz_trimmed.fastq.gz\n",
      "🔬 Analyzing trimmed_fastq/SRR25056160.fastq.gz_trimmed.fastq.gz...\n",
      "application/gzip\n"
     ]
    },
    {
     "name": "stderr",
     "output_type": "stream",
     "text": [
      "Started analysis of SRR25056160.fastq.gz_trimmed.fastq.gz\n",
      "Approx 5% complete for SRR25056160.fastq.gz_trimmed.fastq.gz\n",
      "Approx 10% complete for SRR25056160.fastq.gz_trimmed.fastq.gz\n",
      "Approx 15% complete for SRR25056160.fastq.gz_trimmed.fastq.gz\n",
      "Approx 20% complete for SRR25056160.fastq.gz_trimmed.fastq.gz\n",
      "Approx 25% complete for SRR25056160.fastq.gz_trimmed.fastq.gz\n",
      "Approx 30% complete for SRR25056160.fastq.gz_trimmed.fastq.gz\n",
      "Approx 35% complete for SRR25056160.fastq.gz_trimmed.fastq.gz\n",
      "Approx 40% complete for SRR25056160.fastq.gz_trimmed.fastq.gz\n",
      "Approx 45% complete for SRR25056160.fastq.gz_trimmed.fastq.gz\n",
      "Approx 50% complete for SRR25056160.fastq.gz_trimmed.fastq.gz\n",
      "Approx 55% complete for SRR25056160.fastq.gz_trimmed.fastq.gz\n",
      "Approx 60% complete for SRR25056160.fastq.gz_trimmed.fastq.gz\n",
      "Approx 65% complete for SRR25056160.fastq.gz_trimmed.fastq.gz\n",
      "Approx 70% complete for SRR25056160.fastq.gz_trimmed.fastq.gz\n",
      "Approx 75% complete for SRR25056160.fastq.gz_trimmed.fastq.gz\n",
      "Approx 80% complete for SRR25056160.fastq.gz_trimmed.fastq.gz\n",
      "Approx 85% complete for SRR25056160.fastq.gz_trimmed.fastq.gz\n",
      "Approx 90% complete for SRR25056160.fastq.gz_trimmed.fastq.gz\n",
      "Approx 95% complete for SRR25056160.fastq.gz_trimmed.fastq.gz\n"
     ]
    },
    {
     "name": "stdout",
     "output_type": "stream",
     "text": [
      "Analysis complete for SRR25056160.fastq.gz_trimmed.fastq.gz\n",
      "🔬 Analyzing trimmed_fastq/SRR25056161.fastq.gz_trimmed.fastq.gz...\n",
      "application/gzip\n"
     ]
    },
    {
     "name": "stderr",
     "output_type": "stream",
     "text": [
      "Started analysis of SRR25056161.fastq.gz_trimmed.fastq.gz\n",
      "Approx 5% complete for SRR25056161.fastq.gz_trimmed.fastq.gz\n",
      "Approx 10% complete for SRR25056161.fastq.gz_trimmed.fastq.gz\n",
      "Approx 15% complete for SRR25056161.fastq.gz_trimmed.fastq.gz\n",
      "Approx 20% complete for SRR25056161.fastq.gz_trimmed.fastq.gz\n",
      "Approx 25% complete for SRR25056161.fastq.gz_trimmed.fastq.gz\n",
      "Approx 30% complete for SRR25056161.fastq.gz_trimmed.fastq.gz\n",
      "Approx 35% complete for SRR25056161.fastq.gz_trimmed.fastq.gz\n",
      "Approx 40% complete for SRR25056161.fastq.gz_trimmed.fastq.gz\n",
      "Approx 45% complete for SRR25056161.fastq.gz_trimmed.fastq.gz\n",
      "Approx 50% complete for SRR25056161.fastq.gz_trimmed.fastq.gz\n",
      "Approx 55% complete for SRR25056161.fastq.gz_trimmed.fastq.gz\n",
      "Approx 60% complete for SRR25056161.fastq.gz_trimmed.fastq.gz\n",
      "Approx 65% complete for SRR25056161.fastq.gz_trimmed.fastq.gz\n",
      "Approx 70% complete for SRR25056161.fastq.gz_trimmed.fastq.gz\n",
      "Approx 75% complete for SRR25056161.fastq.gz_trimmed.fastq.gz\n",
      "Approx 80% complete for SRR25056161.fastq.gz_trimmed.fastq.gz\n",
      "Approx 85% complete for SRR25056161.fastq.gz_trimmed.fastq.gz\n",
      "Approx 90% complete for SRR25056161.fastq.gz_trimmed.fastq.gz\n",
      "Approx 95% complete for SRR25056161.fastq.gz_trimmed.fastq.gz\n"
     ]
    },
    {
     "name": "stdout",
     "output_type": "stream",
     "text": [
      "Analysis complete for SRR25056161.fastq.gz_trimmed.fastq.gz\n",
      "🔬 Analyzing trimmed_fastq/SRR25056162.fastq.gz_trimmed.fastq.gz...\n",
      "application/gzip\n"
     ]
    },
    {
     "name": "stderr",
     "output_type": "stream",
     "text": [
      "Started analysis of SRR25056162.fastq.gz_trimmed.fastq.gz\n",
      "Approx 5% complete for SRR25056162.fastq.gz_trimmed.fastq.gz\n",
      "Approx 10% complete for SRR25056162.fastq.gz_trimmed.fastq.gz\n",
      "Approx 15% complete for SRR25056162.fastq.gz_trimmed.fastq.gz\n",
      "Approx 20% complete for SRR25056162.fastq.gz_trimmed.fastq.gz\n",
      "Approx 25% complete for SRR25056162.fastq.gz_trimmed.fastq.gz\n",
      "Approx 30% complete for SRR25056162.fastq.gz_trimmed.fastq.gz\n",
      "Approx 35% complete for SRR25056162.fastq.gz_trimmed.fastq.gz\n",
      "Approx 40% complete for SRR25056162.fastq.gz_trimmed.fastq.gz\n",
      "Approx 45% complete for SRR25056162.fastq.gz_trimmed.fastq.gz\n",
      "Approx 50% complete for SRR25056162.fastq.gz_trimmed.fastq.gz\n",
      "Approx 55% complete for SRR25056162.fastq.gz_trimmed.fastq.gz\n",
      "Approx 60% complete for SRR25056162.fastq.gz_trimmed.fastq.gz\n",
      "Approx 65% complete for SRR25056162.fastq.gz_trimmed.fastq.gz\n",
      "Approx 70% complete for SRR25056162.fastq.gz_trimmed.fastq.gz\n",
      "Approx 75% complete for SRR25056162.fastq.gz_trimmed.fastq.gz\n",
      "Approx 80% complete for SRR25056162.fastq.gz_trimmed.fastq.gz\n",
      "Approx 85% complete for SRR25056162.fastq.gz_trimmed.fastq.gz\n",
      "Approx 90% complete for SRR25056162.fastq.gz_trimmed.fastq.gz\n",
      "Approx 95% complete for SRR25056162.fastq.gz_trimmed.fastq.gz\n"
     ]
    },
    {
     "name": "stdout",
     "output_type": "stream",
     "text": [
      "Analysis complete for SRR25056162.fastq.gz_trimmed.fastq.gz\n"
     ]
    },
    {
     "name": "stderr",
     "output_type": "stream",
     "text": [
      "\n",
      "  \u001b[91m///\u001b[0m \u001b]8;id=693504;https://multiqc.info\u001b\\\u001b[1mMultiQC\u001b[0m\u001b]8;;\u001b\\ 🔍 \u001b[2m| v1.19\u001b[0m\n",
      "\n",
      "\u001b[34m|           multiqc\u001b[0m | \u001b[33mMultiQC Version v1.27 now available!\u001b[0m\n",
      "\u001b[34m|           multiqc\u001b[0m | Search path : /mnt/e/CRPC/fastqc_trimmed\n",
      "\u001b[2K\u001b[34m|\u001b[0m         \u001b[34msearching\u001b[0m | \u001b[90m━━━━━━━━━━━━━━━━━━━━━━━━━━━━━━━━━━━━━━━━\u001b[0m \u001b[35m100%\u001b[0m \u001b[32m20/20\u001b[0m  \u001b[0m0m  \n",
      "\u001b[?25h\u001b[34m|            fastqc\u001b[0m | Found 10 reports\n",
      "\u001b[34m|           multiqc\u001b[0m | Report      : fastqc_trimmed/multiqc_report.html\n",
      "\u001b[34m|           multiqc\u001b[0m | Data        : fastqc_trimmed/multiqc_data\n",
      "\u001b[34m|           multiqc\u001b[0m | MultiQC complete\n"
     ]
    },
    {
     "data": {
      "text/plain": [
       "CompletedProcess(args='multiqc fastqc_trimmed -o fastqc_trimmed', returncode=0)"
      ]
     },
     "execution_count": 9,
     "metadata": {},
     "output_type": "execute_result"
    }
   ],
   "source": [
    "os.makedirs(\"fastqc_trimmed\", exist_ok=True)\n",
    "\n",
    "for file in glob.glob(\"trimmed_fastq/*.fastq.gz\"):\n",
    "    print(f\"🔬 Analyzing {file}...\")\n",
    "    subprocess.run(f\"fastqc -o fastqc_trimmed \\\"{file}\\\"\", shell=True, text=True)\n",
    "\n",
    "subprocess.run(\"multiqc fastqc_trimmed -o fastqc_trimmed\", shell=True, text=True)"
   ]
  },
  {
   "cell_type": "code",
   "execution_count": null,
   "id": "af2aca97-2080-4c78-a0e8-7d135f7dcc11",
   "metadata": {},
   "outputs": [
    {
     "name": "stderr",
     "output_type": "stream",
     "text": [
      "slamdunk all\n",
      "Running slamDunk map for 10 files (32 threads)\n",
      "..........\n",
      "Running slamDunk sam2bam for 10 files (32 threads)\n",
      "..........\n",
      "Running slamDunk filter for 10 files (32 threads)\n",
      "\n",
      "\n",
      "Running slamDunk SNP for 10 files (16 threads)\n",
      "..........\n",
      "Creating output directory: results_slam/all/count\n",
      "Running slamDunk tcount for 10 files (32 threads)\n",
      ".........."
     ]
    }
   ],
   "source": [
    "subprocess.run(\n",
    "    \"slamdunk all \"\n",
    "    \"-r Homo_sapiens.GRCh38.dna.primary_assembly.fa \"\n",
    "    \"-b Homo_sapiens.GRCh38.110.fixed.bed \"\n",
    "    \"-o results_slam/all \"\n",
    "    \"-t 32 -n 1 -m -rl 100 -e \"\n",
    "    \"-mq 20 -mi 0.95 -mc 10 -mbq 27 \"\n",
    "    \"`ls trimmed_fastq/*_trimmed.fastq.gz`\",\n",
    "    shell=True, check=True, executable=\"/bin/bash\"\n",
    ")"
   ]
  },
  {
   "cell_type": "code",
   "execution_count": null,
   "id": "e13fdb39-a804-4ae7-8b96-b4eea46f1414",
   "metadata": {},
   "outputs": [],
   "source": []
  }
 ],
 "metadata": {
  "kernelspec": {
   "display_name": "Python (slamdunk)",
   "language": "python",
   "name": "slamdunk"
  },
  "language_info": {
   "codemirror_mode": {
    "name": "ipython",
    "version": 3
   },
   "file_extension": ".py",
   "mimetype": "text/x-python",
   "name": "python",
   "nbconvert_exporter": "python",
   "pygments_lexer": "ipython3",
   "version": "3.12.8"
  }
 },
 "nbformat": 4,
 "nbformat_minor": 5
}
